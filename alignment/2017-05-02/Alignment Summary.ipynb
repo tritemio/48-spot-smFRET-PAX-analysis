{
 "cells": [
  {
   "cell_type": "markdown",
   "metadata": {},
   "source": [
    "# Scan log alignment summary\n",
    "\n",
    "This notebook takes the `'%s_map.yml'` outpute file from `'48spot alignment-Two_Mantas_load_scan_data-datetime.ipynb'` and tidies it into DataFrames for GG, GR, and RR multiscans. \n",
    "\n",
    "Note that `'Batch 48spot alignment.ipynb'` must be run before running this notebook. "
   ]
  },
  {
   "cell_type": "code",
   "execution_count": 1,
   "metadata": {},
   "outputs": [
    {
     "data": {
      "text/html": [
       "<style type=\"text/css\">table.blockgrid {border: none;} .blockgrid tr {border: none;} .blockgrid td {padding: 0px;} #blocks36a12036-4287-4ce3-acc6-5f7ff1c46b84 td {border: 1px solid white;}</style><table id=\"blocks36a12036-4287-4ce3-acc6-5f7ff1c46b84\" class=\"blockgrid\"><tbody><tr><td title=\"Index: [0, 0]&#10;Color: (27, 158, 119)\" style=\"width: 50px; height: 50px;background-color: rgb(27, 158, 119);\"></td><td title=\"Index: [0, 1]&#10;Color: (217, 95, 2)\" style=\"width: 50px; height: 50px;background-color: rgb(217, 95, 2);\"></td><td title=\"Index: [0, 2]&#10;Color: (117, 112, 179)\" style=\"width: 50px; height: 50px;background-color: rgb(117, 112, 179);\"></td><td title=\"Index: [0, 3]&#10;Color: (231, 41, 138)\" style=\"width: 50px; height: 50px;background-color: rgb(231, 41, 138);\"></td><td title=\"Index: [0, 4]&#10;Color: (102, 166, 30)\" style=\"width: 50px; height: 50px;background-color: rgb(102, 166, 30);\"></td><td title=\"Index: [0, 5]&#10;Color: (230, 171, 2)\" style=\"width: 50px; height: 50px;background-color: rgb(230, 171, 2);\"></td><td title=\"Index: [0, 6]&#10;Color: (166, 118, 29)\" style=\"width: 50px; height: 50px;background-color: rgb(166, 118, 29);\"></td><td title=\"Index: [0, 7]&#10;Color: (102, 102, 102)\" style=\"width: 50px; height: 50px;background-color: rgb(102, 102, 102);\"></td></tr></tbody></table>"
      ],
      "text/plain": [
       "<IPython.core.display.HTML object>"
      ]
     },
     "metadata": {},
     "output_type": "display_data"
    }
   ],
   "source": [
    "import ruamel.yaml as ruamel_yaml\n",
    "import numpy as np\n",
    "import pandas as pd\n",
    "import matplotlib.pyplot as plt\n",
    "from cycler import cycler\n",
    "import palettable as pal\n",
    "import seaborn as sns\n",
    "%matplotlib inline\n",
    "sns.set_style('whitegrid')\n",
    "colors = pal.colorbrewer.qualitative.Dark2_8\n",
    "colors.show_as_blocks(50)\n",
    "plt.rc('axes', prop_cycle=(cycler('color', colors.mpl_colors)))"
   ]
  },
  {
   "cell_type": "markdown",
   "metadata": {},
   "source": [
    "# List of scan data\n",
    "\n",
    "The scan parameters are univoque but other scan data such as sigmas and max counts depends on data selection.\n",
    "Median is used to minimize effect of outliers and because we want to maximaze an effect for the majority of spots.\n",
    "Moreover, filtering along appropriate \"features\" is used to remove strong outliers\n",
    "\n",
    "In this series of scan data, 'offset' is used to exclude outliers for sigma computation."
   ]
  },
  {
   "cell_type": "code",
   "execution_count": 2,
   "metadata": {
    "collapsed": true
   },
   "outputs": [],
   "source": [
    "filenames = ['two_mantas_map.yml']"
   ]
  },
  {
   "cell_type": "code",
   "execution_count": 3,
   "metadata": {},
   "outputs": [
    {
     "name": "stderr",
     "output_type": "stream",
     "text": [
      "/home/anto/miniconda3/envs/py36/lib/python3.6/site-packages/ipykernel/__main__.py:4: UnsafeLoaderWarning: \n",
      "The default 'Loader' for 'load(stream)' without further arguments can be unsafe.\n",
      "Use 'load(stream, Loader=ruamel.yaml.Loader)' explicitly if that is OK.\n",
      "Alternatively include the following in your code:\n",
      "\n",
      "  import warnings\n",
      "  warnings.simplefilter('ignore', ruamel.yaml.error.UnsafeLoaderWarning)\n",
      "\n",
      "In most other cases you should consider using 'safe_load(stream)'\n"
     ]
    }
   ],
   "source": [
    "d_list = []\n",
    "for filename in filenames:\n",
    "    with open(filename) as f:\n",
    "        scan_data = ruamel_yaml.load(f)\n",
    "        for v in scan_data.values():\n",
    "            del v['fit_result_text']\n",
    "    dx = pd.DataFrame.from_dict(scan_data, orient='index')\n",
    "    d_list.append(dx)"
   ]
  },
  {
   "cell_type": "code",
   "execution_count": 4,
   "metadata": {},
   "outputs": [
    {
     "data": {
      "text/html": [
       "<div>\n",
       "<table border=\"1\" class=\"dataframe\">\n",
       "  <thead>\n",
       "    <tr style=\"text-align: right;\">\n",
       "      <th></th>\n",
       "      <th>center_x</th>\n",
       "      <th>center_x_fit</th>\n",
       "      <th>center_x_fitrot</th>\n",
       "      <th>center_y</th>\n",
       "      <th>center_y_fit</th>\n",
       "      <th>center_y_fitrot</th>\n",
       "      <th>ch</th>\n",
       "      <th>datetime</th>\n",
       "      <th>f_min</th>\n",
       "      <th>integration_ms</th>\n",
       "      <th>...</th>\n",
       "      <th>pitch_y_fit</th>\n",
       "      <th>pitch_y_fitrot</th>\n",
       "      <th>pitch_y_mean</th>\n",
       "      <th>range</th>\n",
       "      <th>residue_max</th>\n",
       "      <th>rotation</th>\n",
       "      <th>sigma_x</th>\n",
       "      <th>sigma_y</th>\n",
       "      <th>step</th>\n",
       "      <th>z</th>\n",
       "    </tr>\n",
       "  </thead>\n",
       "  <tbody>\n",
       "    <tr>\n",
       "      <th>2017-05-02 15-29-51</th>\n",
       "      <td>2.0</td>\n",
       "      <td>2.010041</td>\n",
       "      <td>2.010001</td>\n",
       "      <td>-67.0</td>\n",
       "      <td>-66.913803</td>\n",
       "      <td>-66.962243</td>\n",
       "      <td>G</td>\n",
       "      <td>2017-05-02 15-29-51</td>\n",
       "      <td>0.7</td>\n",
       "      <td>200</td>\n",
       "      <td>...</td>\n",
       "      <td>23.147994</td>\n",
       "      <td>23.168530</td>\n",
       "      <td>23.149167</td>\n",
       "      <td>10</td>\n",
       "      <td>1000000.0</td>\n",
       "      <td>1.382462</td>\n",
       "      <td>1.5755</td>\n",
       "      <td>1.4975</td>\n",
       "      <td>0.4</td>\n",
       "      <td>10</td>\n",
       "    </tr>\n",
       "    <tr>\n",
       "      <th>2017-05-02 15-30-19</th>\n",
       "      <td>2.0</td>\n",
       "      <td>2.013738</td>\n",
       "      <td>2.013749</td>\n",
       "      <td>-67.0</td>\n",
       "      <td>-66.918703</td>\n",
       "      <td>-66.967260</td>\n",
       "      <td>G</td>\n",
       "      <td>2017-05-02 15-30-19</td>\n",
       "      <td>0.7</td>\n",
       "      <td>200</td>\n",
       "      <td>...</td>\n",
       "      <td>23.151506</td>\n",
       "      <td>23.172114</td>\n",
       "      <td>23.151667</td>\n",
       "      <td>10</td>\n",
       "      <td>1000000.0</td>\n",
       "      <td>1.380384</td>\n",
       "      <td>1.5860</td>\n",
       "      <td>1.4925</td>\n",
       "      <td>0.4</td>\n",
       "      <td>10</td>\n",
       "    </tr>\n",
       "    <tr>\n",
       "      <th>2017-05-02 15-30-43</th>\n",
       "      <td>2.0</td>\n",
       "      <td>2.016840</td>\n",
       "      <td>2.016875</td>\n",
       "      <td>-67.0</td>\n",
       "      <td>-66.976204</td>\n",
       "      <td>-67.025031</td>\n",
       "      <td>G</td>\n",
       "      <td>2017-05-02 15-30-43</td>\n",
       "      <td>0.7</td>\n",
       "      <td>200</td>\n",
       "      <td>...</td>\n",
       "      <td>23.154499</td>\n",
       "      <td>23.175145</td>\n",
       "      <td>23.152500</td>\n",
       "      <td>10</td>\n",
       "      <td>1000000.0</td>\n",
       "      <td>1.385912</td>\n",
       "      <td>1.5630</td>\n",
       "      <td>1.5030</td>\n",
       "      <td>0.4</td>\n",
       "      <td>10</td>\n",
       "    </tr>\n",
       "    <tr>\n",
       "      <th>2017-05-02 15-31-01</th>\n",
       "      <td>2.0</td>\n",
       "      <td>2.016246</td>\n",
       "      <td>2.016249</td>\n",
       "      <td>-67.0</td>\n",
       "      <td>-66.987484</td>\n",
       "      <td>-67.036164</td>\n",
       "      <td>G</td>\n",
       "      <td>2017-05-02 15-31-01</td>\n",
       "      <td>0.7</td>\n",
       "      <td>200</td>\n",
       "      <td>...</td>\n",
       "      <td>23.154000</td>\n",
       "      <td>23.174618</td>\n",
       "      <td>23.152500</td>\n",
       "      <td>10</td>\n",
       "      <td>1000000.0</td>\n",
       "      <td>1.383001</td>\n",
       "      <td>1.5940</td>\n",
       "      <td>1.4925</td>\n",
       "      <td>0.4</td>\n",
       "      <td>10</td>\n",
       "    </tr>\n",
       "    <tr>\n",
       "      <th>2017-05-02 15-31-21</th>\n",
       "      <td>2.0</td>\n",
       "      <td>2.008159</td>\n",
       "      <td>2.008125</td>\n",
       "      <td>-67.0</td>\n",
       "      <td>-66.985668</td>\n",
       "      <td>-67.034478</td>\n",
       "      <td>G</td>\n",
       "      <td>2017-05-02 15-31-21</td>\n",
       "      <td>0.7</td>\n",
       "      <td>200</td>\n",
       "      <td>...</td>\n",
       "      <td>23.154250</td>\n",
       "      <td>23.175104</td>\n",
       "      <td>23.153333</td>\n",
       "      <td>10</td>\n",
       "      <td>1000000.0</td>\n",
       "      <td>1.394016</td>\n",
       "      <td>1.5605</td>\n",
       "      <td>1.5050</td>\n",
       "      <td>0.4</td>\n",
       "      <td>10</td>\n",
       "    </tr>\n",
       "  </tbody>\n",
       "</table>\n",
       "<p>5 rows × 31 columns</p>\n",
       "</div>"
      ],
      "text/plain": [
       "                     center_x  center_x_fit  center_x_fitrot  center_y  \\\n",
       "2017-05-02 15-29-51       2.0      2.010041         2.010001     -67.0   \n",
       "2017-05-02 15-30-19       2.0      2.013738         2.013749     -67.0   \n",
       "2017-05-02 15-30-43       2.0      2.016840         2.016875     -67.0   \n",
       "2017-05-02 15-31-01       2.0      2.016246         2.016249     -67.0   \n",
       "2017-05-02 15-31-21       2.0      2.008159         2.008125     -67.0   \n",
       "\n",
       "                     center_y_fit  center_y_fitrot ch             datetime  \\\n",
       "2017-05-02 15-29-51    -66.913803       -66.962243  G  2017-05-02 15-29-51   \n",
       "2017-05-02 15-30-19    -66.918703       -66.967260  G  2017-05-02 15-30-19   \n",
       "2017-05-02 15-30-43    -66.976204       -67.025031  G  2017-05-02 15-30-43   \n",
       "2017-05-02 15-31-01    -66.987484       -67.036164  G  2017-05-02 15-31-01   \n",
       "2017-05-02 15-31-21    -66.985668       -67.034478  G  2017-05-02 15-31-21   \n",
       "\n",
       "                     f_min  integration_ms ... pitch_y_fit  pitch_y_fitrot  \\\n",
       "2017-05-02 15-29-51    0.7             200 ...   23.147994       23.168530   \n",
       "2017-05-02 15-30-19    0.7             200 ...   23.151506       23.172114   \n",
       "2017-05-02 15-30-43    0.7             200 ...   23.154499       23.175145   \n",
       "2017-05-02 15-31-01    0.7             200 ...   23.154000       23.174618   \n",
       "2017-05-02 15-31-21    0.7             200 ...   23.154250       23.175104   \n",
       "\n",
       "                     pitch_y_mean  range  residue_max  rotation  sigma_x  \\\n",
       "2017-05-02 15-29-51     23.149167     10    1000000.0  1.382462   1.5755   \n",
       "2017-05-02 15-30-19     23.151667     10    1000000.0  1.380384   1.5860   \n",
       "2017-05-02 15-30-43     23.152500     10    1000000.0  1.385912   1.5630   \n",
       "2017-05-02 15-31-01     23.152500     10    1000000.0  1.383001   1.5940   \n",
       "2017-05-02 15-31-21     23.153333     10    1000000.0  1.394016   1.5605   \n",
       "\n",
       "                     sigma_y  step   z  \n",
       "2017-05-02 15-29-51   1.4975   0.4  10  \n",
       "2017-05-02 15-30-19   1.4925   0.4  10  \n",
       "2017-05-02 15-30-43   1.5030   0.4  10  \n",
       "2017-05-02 15-31-01   1.4925   0.4  10  \n",
       "2017-05-02 15-31-21   1.5050   0.4  10  \n",
       "\n",
       "[5 rows x 31 columns]"
      ]
     },
     "execution_count": 4,
     "metadata": {},
     "output_type": "execute_result"
    }
   ],
   "source": [
    "dx.tail()"
   ]
  },
  {
   "cell_type": "code",
   "execution_count": 5,
   "metadata": {},
   "outputs": [
    {
     "data": {
      "text/plain": [
       "Index(['center_x', 'center_x_fit', 'center_x_fitrot', 'center_y',\n",
       "       'center_y_fit', 'center_y_fitrot', 'ch', 'datetime', 'f_min',\n",
       "       'integration_ms', 'laser', 'max_counts_corr', 'n_inliers', 'nspots_x',\n",
       "       'nspots_y', 'offset_min', 'pitch_x', 'pitch_x_fit', 'pitch_x_fitrot',\n",
       "       'pitch_x_mean', 'pitch_y', 'pitch_y_fit', 'pitch_y_fitrot',\n",
       "       'pitch_y_mean', 'range', 'residue_max', 'rotation', 'sigma_x',\n",
       "       'sigma_y', 'step', 'z'],\n",
       "      dtype='object')"
      ]
     },
     "execution_count": 5,
     "metadata": {},
     "output_type": "execute_result"
    }
   ],
   "source": [
    "dx.columns"
   ]
  },
  {
   "cell_type": "code",
   "execution_count": 6,
   "metadata": {},
   "outputs": [
    {
     "data": {
      "text/html": [
       "<div>\n",
       "<table border=\"1\" class=\"dataframe\">\n",
       "  <thead>\n",
       "    <tr style=\"text-align: right;\">\n",
       "      <th></th>\n",
       "      <th>center_x</th>\n",
       "      <th>center_x_fit</th>\n",
       "      <th>center_x_fitrot</th>\n",
       "      <th>center_y</th>\n",
       "      <th>center_y_fit</th>\n",
       "      <th>center_y_fitrot</th>\n",
       "      <th>ch</th>\n",
       "      <th>datetime</th>\n",
       "      <th>f_min</th>\n",
       "      <th>integration_ms</th>\n",
       "      <th>...</th>\n",
       "      <th>pitch_y_fit</th>\n",
       "      <th>pitch_y_fitrot</th>\n",
       "      <th>pitch_y_mean</th>\n",
       "      <th>range</th>\n",
       "      <th>residue_max</th>\n",
       "      <th>rotation</th>\n",
       "      <th>sigma_x</th>\n",
       "      <th>sigma_y</th>\n",
       "      <th>step</th>\n",
       "      <th>z</th>\n",
       "    </tr>\n",
       "  </thead>\n",
       "  <tbody>\n",
       "    <tr>\n",
       "      <th>2017-05-02 12-45-29</th>\n",
       "      <td>2.00</td>\n",
       "      <td>1.814361</td>\n",
       "      <td>1.814375</td>\n",
       "      <td>-67.00</td>\n",
       "      <td>-67.029321</td>\n",
       "      <td>-67.072842</td>\n",
       "      <td>G</td>\n",
       "      <td>2017-05-02 12-45-29</td>\n",
       "      <td>0.7</td>\n",
       "      <td>200</td>\n",
       "      <td>...</td>\n",
       "      <td>23.156251</td>\n",
       "      <td>23.176503</td>\n",
       "      <td>23.155833</td>\n",
       "      <td>10</td>\n",
       "      <td>1000000.0</td>\n",
       "      <td>1.372756</td>\n",
       "      <td>1.5670</td>\n",
       "      <td>1.5310</td>\n",
       "      <td>0.4</td>\n",
       "      <td>10</td>\n",
       "    </tr>\n",
       "    <tr>\n",
       "      <th>2017-05-02 12-47-11</th>\n",
       "      <td>2.00</td>\n",
       "      <td>1.809986</td>\n",
       "      <td>1.810000</td>\n",
       "      <td>-67.00</td>\n",
       "      <td>-67.034334</td>\n",
       "      <td>-67.078008</td>\n",
       "      <td>G</td>\n",
       "      <td>2017-05-02 12-47-11</td>\n",
       "      <td>0.7</td>\n",
       "      <td>200</td>\n",
       "      <td>...</td>\n",
       "      <td>23.158753</td>\n",
       "      <td>23.179313</td>\n",
       "      <td>23.156667</td>\n",
       "      <td>10</td>\n",
       "      <td>1000000.0</td>\n",
       "      <td>1.381368</td>\n",
       "      <td>1.5710</td>\n",
       "      <td>1.5240</td>\n",
       "      <td>0.4</td>\n",
       "      <td>10</td>\n",
       "    </tr>\n",
       "    <tr>\n",
       "      <th>2017-05-02 12-47-31</th>\n",
       "      <td>2.00</td>\n",
       "      <td>1.808751</td>\n",
       "      <td>1.808750</td>\n",
       "      <td>-67.00</td>\n",
       "      <td>-67.038751</td>\n",
       "      <td>-67.082420</td>\n",
       "      <td>G</td>\n",
       "      <td>2017-05-02 12-47-31</td>\n",
       "      <td>0.7</td>\n",
       "      <td>200</td>\n",
       "      <td>...</td>\n",
       "      <td>23.161503</td>\n",
       "      <td>23.182093</td>\n",
       "      <td>23.160833</td>\n",
       "      <td>10</td>\n",
       "      <td>1000000.0</td>\n",
       "      <td>1.383485</td>\n",
       "      <td>1.5760</td>\n",
       "      <td>1.5365</td>\n",
       "      <td>0.4</td>\n",
       "      <td>10</td>\n",
       "    </tr>\n",
       "    <tr>\n",
       "      <th>2017-05-02 12-52-37</th>\n",
       "      <td>2.00</td>\n",
       "      <td>2.524376</td>\n",
       "      <td>2.524375</td>\n",
       "      <td>-67.00</td>\n",
       "      <td>-66.959381</td>\n",
       "      <td>-67.013429</td>\n",
       "      <td>R</td>\n",
       "      <td>2017-05-02 12-52-37</td>\n",
       "      <td>0.7</td>\n",
       "      <td>200</td>\n",
       "      <td>...</td>\n",
       "      <td>23.245749</td>\n",
       "      <td>23.261742</td>\n",
       "      <td>23.243333</td>\n",
       "      <td>10</td>\n",
       "      <td>1000000.0</td>\n",
       "      <td>1.226961</td>\n",
       "      <td>1.5885</td>\n",
       "      <td>1.5075</td>\n",
       "      <td>0.4</td>\n",
       "      <td>21</td>\n",
       "    </tr>\n",
       "    <tr>\n",
       "      <th>2017-05-02 12-55-44</th>\n",
       "      <td>2.00</td>\n",
       "      <td>2.026257</td>\n",
       "      <td>2.026249</td>\n",
       "      <td>-67.00</td>\n",
       "      <td>-66.989371</td>\n",
       "      <td>-67.032884</td>\n",
       "      <td>R</td>\n",
       "      <td>2017-05-02 12-55-44</td>\n",
       "      <td>0.7</td>\n",
       "      <td>200</td>\n",
       "      <td>...</td>\n",
       "      <td>23.248253</td>\n",
       "      <td>23.264340</td>\n",
       "      <td>23.243333</td>\n",
       "      <td>10</td>\n",
       "      <td>1000000.0</td>\n",
       "      <td>1.230356</td>\n",
       "      <td>1.6060</td>\n",
       "      <td>1.5315</td>\n",
       "      <td>0.4</td>\n",
       "      <td>21</td>\n",
       "    </tr>\n",
       "    <tr>\n",
       "      <th>2017-05-02 12-56-07</th>\n",
       "      <td>2.00</td>\n",
       "      <td>2.025616</td>\n",
       "      <td>2.025625</td>\n",
       "      <td>-67.00</td>\n",
       "      <td>-66.984389</td>\n",
       "      <td>-67.028211</td>\n",
       "      <td>R</td>\n",
       "      <td>2017-05-02 12-56-07</td>\n",
       "      <td>0.7</td>\n",
       "      <td>200</td>\n",
       "      <td>...</td>\n",
       "      <td>23.246257</td>\n",
       "      <td>23.262632</td>\n",
       "      <td>23.241667</td>\n",
       "      <td>10</td>\n",
       "      <td>1000000.0</td>\n",
       "      <td>1.240029</td>\n",
       "      <td>1.6165</td>\n",
       "      <td>1.5020</td>\n",
       "      <td>0.4</td>\n",
       "      <td>21</td>\n",
       "    </tr>\n",
       "    <tr>\n",
       "      <th>2017-05-02 12-56-30</th>\n",
       "      <td>2.00</td>\n",
       "      <td>2.012504</td>\n",
       "      <td>2.012501</td>\n",
       "      <td>-67.00</td>\n",
       "      <td>-66.984378</td>\n",
       "      <td>-67.027703</td>\n",
       "      <td>R</td>\n",
       "      <td>2017-05-02 12-56-30</td>\n",
       "      <td>0.7</td>\n",
       "      <td>200</td>\n",
       "      <td>...</td>\n",
       "      <td>23.254755</td>\n",
       "      <td>23.270918</td>\n",
       "      <td>23.250833</td>\n",
       "      <td>10</td>\n",
       "      <td>1000000.0</td>\n",
       "      <td>1.233620</td>\n",
       "      <td>1.6010</td>\n",
       "      <td>1.5260</td>\n",
       "      <td>0.4</td>\n",
       "      <td>21</td>\n",
       "    </tr>\n",
       "    <tr>\n",
       "      <th>2017-05-02 13-03-07</th>\n",
       "      <td>10.68</td>\n",
       "      <td>10.680618</td>\n",
       "      <td>10.680625</td>\n",
       "      <td>19.84</td>\n",
       "      <td>19.839383</td>\n",
       "      <td>20.079559</td>\n",
       "      <td>R</td>\n",
       "      <td>2017-05-02 13-03-07</td>\n",
       "      <td>0.7</td>\n",
       "      <td>200</td>\n",
       "      <td>...</td>\n",
       "      <td>22.682726</td>\n",
       "      <td>22.699999</td>\n",
       "      <td>22.685000</td>\n",
       "      <td>10</td>\n",
       "      <td>1000000.0</td>\n",
       "      <td>-1.288589</td>\n",
       "      <td>1.6505</td>\n",
       "      <td>1.6030</td>\n",
       "      <td>0.4</td>\n",
       "      <td>21</td>\n",
       "    </tr>\n",
       "    <tr>\n",
       "      <th>2017-05-02 13-03-20</th>\n",
       "      <td>10.68</td>\n",
       "      <td>10.680594</td>\n",
       "      <td>10.680622</td>\n",
       "      <td>19.84</td>\n",
       "      <td>19.839351</td>\n",
       "      <td>20.083370</td>\n",
       "      <td>R</td>\n",
       "      <td>2017-05-02 13-03-20</td>\n",
       "      <td>0.7</td>\n",
       "      <td>200</td>\n",
       "      <td>...</td>\n",
       "      <td>22.690260</td>\n",
       "      <td>22.708104</td>\n",
       "      <td>22.692500</td>\n",
       "      <td>10</td>\n",
       "      <td>1000000.0</td>\n",
       "      <td>-1.309001</td>\n",
       "      <td>1.6775</td>\n",
       "      <td>1.5870</td>\n",
       "      <td>0.4</td>\n",
       "      <td>21</td>\n",
       "    </tr>\n",
       "    <tr>\n",
       "      <th>2017-05-02 13-04-19</th>\n",
       "      <td>10.68</td>\n",
       "      <td>10.698769</td>\n",
       "      <td>10.698750</td>\n",
       "      <td>19.84</td>\n",
       "      <td>19.839361</td>\n",
       "      <td>20.082167</td>\n",
       "      <td>R</td>\n",
       "      <td>2017-05-02 13-04-19</td>\n",
       "      <td>0.7</td>\n",
       "      <td>200</td>\n",
       "      <td>...</td>\n",
       "      <td>22.674259</td>\n",
       "      <td>22.691792</td>\n",
       "      <td>22.676667</td>\n",
       "      <td>10</td>\n",
       "      <td>1000000.0</td>\n",
       "      <td>-1.300362</td>\n",
       "      <td>1.6585</td>\n",
       "      <td>1.6145</td>\n",
       "      <td>0.4</td>\n",
       "      <td>21</td>\n",
       "    </tr>\n",
       "    <tr>\n",
       "      <th>2017-05-02 15-28-57</th>\n",
       "      <td>2.00</td>\n",
       "      <td>1.735626</td>\n",
       "      <td>1.735623</td>\n",
       "      <td>-67.00</td>\n",
       "      <td>-66.920001</td>\n",
       "      <td>-66.962133</td>\n",
       "      <td>G</td>\n",
       "      <td>2017-05-02 15-28-57</td>\n",
       "      <td>0.7</td>\n",
       "      <td>200</td>\n",
       "      <td>...</td>\n",
       "      <td>23.157499</td>\n",
       "      <td>23.178342</td>\n",
       "      <td>23.157500</td>\n",
       "      <td>10</td>\n",
       "      <td>1000000.0</td>\n",
       "      <td>1.391011</td>\n",
       "      <td>1.5870</td>\n",
       "      <td>1.5330</td>\n",
       "      <td>0.4</td>\n",
       "      <td>10</td>\n",
       "    </tr>\n",
       "    <tr>\n",
       "      <th>2017-05-02 15-29-51</th>\n",
       "      <td>2.00</td>\n",
       "      <td>2.010041</td>\n",
       "      <td>2.010001</td>\n",
       "      <td>-67.00</td>\n",
       "      <td>-66.913803</td>\n",
       "      <td>-66.962243</td>\n",
       "      <td>G</td>\n",
       "      <td>2017-05-02 15-29-51</td>\n",
       "      <td>0.7</td>\n",
       "      <td>200</td>\n",
       "      <td>...</td>\n",
       "      <td>23.147994</td>\n",
       "      <td>23.168530</td>\n",
       "      <td>23.149167</td>\n",
       "      <td>10</td>\n",
       "      <td>1000000.0</td>\n",
       "      <td>1.382462</td>\n",
       "      <td>1.5755</td>\n",
       "      <td>1.4975</td>\n",
       "      <td>0.4</td>\n",
       "      <td>10</td>\n",
       "    </tr>\n",
       "    <tr>\n",
       "      <th>2017-05-02 15-30-19</th>\n",
       "      <td>2.00</td>\n",
       "      <td>2.013738</td>\n",
       "      <td>2.013749</td>\n",
       "      <td>-67.00</td>\n",
       "      <td>-66.918703</td>\n",
       "      <td>-66.967260</td>\n",
       "      <td>G</td>\n",
       "      <td>2017-05-02 15-30-19</td>\n",
       "      <td>0.7</td>\n",
       "      <td>200</td>\n",
       "      <td>...</td>\n",
       "      <td>23.151506</td>\n",
       "      <td>23.172114</td>\n",
       "      <td>23.151667</td>\n",
       "      <td>10</td>\n",
       "      <td>1000000.0</td>\n",
       "      <td>1.380384</td>\n",
       "      <td>1.5860</td>\n",
       "      <td>1.4925</td>\n",
       "      <td>0.4</td>\n",
       "      <td>10</td>\n",
       "    </tr>\n",
       "    <tr>\n",
       "      <th>2017-05-02 15-30-43</th>\n",
       "      <td>2.00</td>\n",
       "      <td>2.016840</td>\n",
       "      <td>2.016875</td>\n",
       "      <td>-67.00</td>\n",
       "      <td>-66.976204</td>\n",
       "      <td>-67.025031</td>\n",
       "      <td>G</td>\n",
       "      <td>2017-05-02 15-30-43</td>\n",
       "      <td>0.7</td>\n",
       "      <td>200</td>\n",
       "      <td>...</td>\n",
       "      <td>23.154499</td>\n",
       "      <td>23.175145</td>\n",
       "      <td>23.152500</td>\n",
       "      <td>10</td>\n",
       "      <td>1000000.0</td>\n",
       "      <td>1.385912</td>\n",
       "      <td>1.5630</td>\n",
       "      <td>1.5030</td>\n",
       "      <td>0.4</td>\n",
       "      <td>10</td>\n",
       "    </tr>\n",
       "    <tr>\n",
       "      <th>2017-05-02 15-31-01</th>\n",
       "      <td>2.00</td>\n",
       "      <td>2.016246</td>\n",
       "      <td>2.016249</td>\n",
       "      <td>-67.00</td>\n",
       "      <td>-66.987484</td>\n",
       "      <td>-67.036164</td>\n",
       "      <td>G</td>\n",
       "      <td>2017-05-02 15-31-01</td>\n",
       "      <td>0.7</td>\n",
       "      <td>200</td>\n",
       "      <td>...</td>\n",
       "      <td>23.154000</td>\n",
       "      <td>23.174618</td>\n",
       "      <td>23.152500</td>\n",
       "      <td>10</td>\n",
       "      <td>1000000.0</td>\n",
       "      <td>1.383001</td>\n",
       "      <td>1.5940</td>\n",
       "      <td>1.4925</td>\n",
       "      <td>0.4</td>\n",
       "      <td>10</td>\n",
       "    </tr>\n",
       "    <tr>\n",
       "      <th>2017-05-02 15-31-21</th>\n",
       "      <td>2.00</td>\n",
       "      <td>2.008159</td>\n",
       "      <td>2.008125</td>\n",
       "      <td>-67.00</td>\n",
       "      <td>-66.985668</td>\n",
       "      <td>-67.034478</td>\n",
       "      <td>G</td>\n",
       "      <td>2017-05-02 15-31-21</td>\n",
       "      <td>0.7</td>\n",
       "      <td>200</td>\n",
       "      <td>...</td>\n",
       "      <td>23.154250</td>\n",
       "      <td>23.175104</td>\n",
       "      <td>23.153333</td>\n",
       "      <td>10</td>\n",
       "      <td>1000000.0</td>\n",
       "      <td>1.394016</td>\n",
       "      <td>1.5605</td>\n",
       "      <td>1.5050</td>\n",
       "      <td>0.4</td>\n",
       "      <td>10</td>\n",
       "    </tr>\n",
       "  </tbody>\n",
       "</table>\n",
       "<p>16 rows × 31 columns</p>\n",
       "</div>"
      ],
      "text/plain": [
       "                     center_x  center_x_fit  center_x_fitrot  center_y  \\\n",
       "2017-05-02 12-45-29      2.00      1.814361         1.814375    -67.00   \n",
       "2017-05-02 12-47-11      2.00      1.809986         1.810000    -67.00   \n",
       "2017-05-02 12-47-31      2.00      1.808751         1.808750    -67.00   \n",
       "2017-05-02 12-52-37      2.00      2.524376         2.524375    -67.00   \n",
       "2017-05-02 12-55-44      2.00      2.026257         2.026249    -67.00   \n",
       "2017-05-02 12-56-07      2.00      2.025616         2.025625    -67.00   \n",
       "2017-05-02 12-56-30      2.00      2.012504         2.012501    -67.00   \n",
       "2017-05-02 13-03-07     10.68     10.680618        10.680625     19.84   \n",
       "2017-05-02 13-03-20     10.68     10.680594        10.680622     19.84   \n",
       "2017-05-02 13-04-19     10.68     10.698769        10.698750     19.84   \n",
       "2017-05-02 15-28-57      2.00      1.735626         1.735623    -67.00   \n",
       "2017-05-02 15-29-51      2.00      2.010041         2.010001    -67.00   \n",
       "2017-05-02 15-30-19      2.00      2.013738         2.013749    -67.00   \n",
       "2017-05-02 15-30-43      2.00      2.016840         2.016875    -67.00   \n",
       "2017-05-02 15-31-01      2.00      2.016246         2.016249    -67.00   \n",
       "2017-05-02 15-31-21      2.00      2.008159         2.008125    -67.00   \n",
       "\n",
       "                     center_y_fit  center_y_fitrot ch             datetime  \\\n",
       "2017-05-02 12-45-29    -67.029321       -67.072842  G  2017-05-02 12-45-29   \n",
       "2017-05-02 12-47-11    -67.034334       -67.078008  G  2017-05-02 12-47-11   \n",
       "2017-05-02 12-47-31    -67.038751       -67.082420  G  2017-05-02 12-47-31   \n",
       "2017-05-02 12-52-37    -66.959381       -67.013429  R  2017-05-02 12-52-37   \n",
       "2017-05-02 12-55-44    -66.989371       -67.032884  R  2017-05-02 12-55-44   \n",
       "2017-05-02 12-56-07    -66.984389       -67.028211  R  2017-05-02 12-56-07   \n",
       "2017-05-02 12-56-30    -66.984378       -67.027703  R  2017-05-02 12-56-30   \n",
       "2017-05-02 13-03-07     19.839383        20.079559  R  2017-05-02 13-03-07   \n",
       "2017-05-02 13-03-20     19.839351        20.083370  R  2017-05-02 13-03-20   \n",
       "2017-05-02 13-04-19     19.839361        20.082167  R  2017-05-02 13-04-19   \n",
       "2017-05-02 15-28-57    -66.920001       -66.962133  G  2017-05-02 15-28-57   \n",
       "2017-05-02 15-29-51    -66.913803       -66.962243  G  2017-05-02 15-29-51   \n",
       "2017-05-02 15-30-19    -66.918703       -66.967260  G  2017-05-02 15-30-19   \n",
       "2017-05-02 15-30-43    -66.976204       -67.025031  G  2017-05-02 15-30-43   \n",
       "2017-05-02 15-31-01    -66.987484       -67.036164  G  2017-05-02 15-31-01   \n",
       "2017-05-02 15-31-21    -66.985668       -67.034478  G  2017-05-02 15-31-21   \n",
       "\n",
       "                     f_min  integration_ms ... pitch_y_fit  pitch_y_fitrot  \\\n",
       "2017-05-02 12-45-29    0.7             200 ...   23.156251       23.176503   \n",
       "2017-05-02 12-47-11    0.7             200 ...   23.158753       23.179313   \n",
       "2017-05-02 12-47-31    0.7             200 ...   23.161503       23.182093   \n",
       "2017-05-02 12-52-37    0.7             200 ...   23.245749       23.261742   \n",
       "2017-05-02 12-55-44    0.7             200 ...   23.248253       23.264340   \n",
       "2017-05-02 12-56-07    0.7             200 ...   23.246257       23.262632   \n",
       "2017-05-02 12-56-30    0.7             200 ...   23.254755       23.270918   \n",
       "2017-05-02 13-03-07    0.7             200 ...   22.682726       22.699999   \n",
       "2017-05-02 13-03-20    0.7             200 ...   22.690260       22.708104   \n",
       "2017-05-02 13-04-19    0.7             200 ...   22.674259       22.691792   \n",
       "2017-05-02 15-28-57    0.7             200 ...   23.157499       23.178342   \n",
       "2017-05-02 15-29-51    0.7             200 ...   23.147994       23.168530   \n",
       "2017-05-02 15-30-19    0.7             200 ...   23.151506       23.172114   \n",
       "2017-05-02 15-30-43    0.7             200 ...   23.154499       23.175145   \n",
       "2017-05-02 15-31-01    0.7             200 ...   23.154000       23.174618   \n",
       "2017-05-02 15-31-21    0.7             200 ...   23.154250       23.175104   \n",
       "\n",
       "                     pitch_y_mean  range  residue_max  rotation  sigma_x  \\\n",
       "2017-05-02 12-45-29     23.155833     10    1000000.0  1.372756   1.5670   \n",
       "2017-05-02 12-47-11     23.156667     10    1000000.0  1.381368   1.5710   \n",
       "2017-05-02 12-47-31     23.160833     10    1000000.0  1.383485   1.5760   \n",
       "2017-05-02 12-52-37     23.243333     10    1000000.0  1.226961   1.5885   \n",
       "2017-05-02 12-55-44     23.243333     10    1000000.0  1.230356   1.6060   \n",
       "2017-05-02 12-56-07     23.241667     10    1000000.0  1.240029   1.6165   \n",
       "2017-05-02 12-56-30     23.250833     10    1000000.0  1.233620   1.6010   \n",
       "2017-05-02 13-03-07     22.685000     10    1000000.0 -1.288589   1.6505   \n",
       "2017-05-02 13-03-20     22.692500     10    1000000.0 -1.309001   1.6775   \n",
       "2017-05-02 13-04-19     22.676667     10    1000000.0 -1.300362   1.6585   \n",
       "2017-05-02 15-28-57     23.157500     10    1000000.0  1.391011   1.5870   \n",
       "2017-05-02 15-29-51     23.149167     10    1000000.0  1.382462   1.5755   \n",
       "2017-05-02 15-30-19     23.151667     10    1000000.0  1.380384   1.5860   \n",
       "2017-05-02 15-30-43     23.152500     10    1000000.0  1.385912   1.5630   \n",
       "2017-05-02 15-31-01     23.152500     10    1000000.0  1.383001   1.5940   \n",
       "2017-05-02 15-31-21     23.153333     10    1000000.0  1.394016   1.5605   \n",
       "\n",
       "                     sigma_y  step   z  \n",
       "2017-05-02 12-45-29   1.5310   0.4  10  \n",
       "2017-05-02 12-47-11   1.5240   0.4  10  \n",
       "2017-05-02 12-47-31   1.5365   0.4  10  \n",
       "2017-05-02 12-52-37   1.5075   0.4  21  \n",
       "2017-05-02 12-55-44   1.5315   0.4  21  \n",
       "2017-05-02 12-56-07   1.5020   0.4  21  \n",
       "2017-05-02 12-56-30   1.5260   0.4  21  \n",
       "2017-05-02 13-03-07   1.6030   0.4  21  \n",
       "2017-05-02 13-03-20   1.5870   0.4  21  \n",
       "2017-05-02 13-04-19   1.6145   0.4  21  \n",
       "2017-05-02 15-28-57   1.5330   0.4  10  \n",
       "2017-05-02 15-29-51   1.4975   0.4  10  \n",
       "2017-05-02 15-30-19   1.4925   0.4  10  \n",
       "2017-05-02 15-30-43   1.5030   0.4  10  \n",
       "2017-05-02 15-31-01   1.4925   0.4  10  \n",
       "2017-05-02 15-31-21   1.5050   0.4  10  \n",
       "\n",
       "[16 rows x 31 columns]"
      ]
     },
     "execution_count": 6,
     "metadata": {},
     "output_type": "execute_result"
    }
   ],
   "source": [
    "dx"
   ]
  },
  {
   "cell_type": "markdown",
   "metadata": {},
   "source": [
    "# Concatenate Results"
   ]
  },
  {
   "cell_type": "code",
   "execution_count": 7,
   "metadata": {
    "collapsed": true
   },
   "outputs": [],
   "source": [
    "input_col = ['center_x', 'center_y', 'f_min', 'integration_ms', 'nspots_x', 'nspots_y', 'offset_min', \n",
    "             'pitch_x', 'pitch_y','range', 'residue_max', 'step', 'z']\n",
    "output_col = ['center_x_fit', 'center_y_fit', 'max_counts_corr', 'n_inliers', \n",
    "              'pitch_x_fit', 'pitch_y_fit', 'pitch_x_fitrot', 'pitch_y_fitrot', \n",
    "              'sigma_x', 'sigma_y', 'intensity', 'z', 'datetime']"
   ]
  },
  {
   "cell_type": "code",
   "execution_count": 8,
   "metadata": {
    "collapsed": true
   },
   "outputs": [],
   "source": [
    "dfg = (pd.concat(d_list)\n",
    "      .assign(intensity=lambda x: x.max_counts_corr / x.integration_ms)\n",
    "      .assign(datetime=lambda x: pd.to_datetime(x.datetime, format=\"%Y-%m-%d %H-%M-%S\"))\n",
    "      .query('ch == \"G\"')\n",
    "      .query('laser == \"G\"')\n",
    "     ).iloc[-3:]\n",
    "dfg['intensity'] = dfg.max_counts_corr / dfg.integration_ms"
   ]
  },
  {
   "cell_type": "code",
   "execution_count": 9,
   "metadata": {
    "collapsed": true
   },
   "outputs": [],
   "source": [
    "dfr = (pd.concat(d_list)\n",
    "      .assign(intensity=lambda x: x.max_counts_corr / x.integration_ms)\n",
    "      .assign(datetime=lambda x: pd.to_datetime(x.datetime, format=\"%Y-%m-%d %H-%M-%S\"))\n",
    "      .query('ch == \"R\"')\n",
    "      .query('laser == \"G\"')       \n",
    "     ).iloc[-3:]\n",
    "dfr['intensity'] = dfr.max_counts_corr / dfr.integration_ms"
   ]
  },
  {
   "cell_type": "code",
   "execution_count": 10,
   "metadata": {
    "collapsed": true
   },
   "outputs": [],
   "source": [
    "dfrr = (pd.concat(d_list)\n",
    "      .assign(intensity=lambda x: x.max_counts_corr / x.integration_ms)\n",
    "      .assign(datetime=lambda x: pd.to_datetime(x.datetime, format=\"%Y-%m-%d %H-%M-%S\"))\n",
    "      .query('ch == \"R\"')\n",
    "      .query('laser == \"R\"')       \n",
    "     ).iloc[-3:]\n",
    "dfrr['intensity'] = dfrr.max_counts_corr / dfrr.integration_ms"
   ]
  },
  {
   "cell_type": "code",
   "execution_count": 11,
   "metadata": {},
   "outputs": [
    {
     "data": {
      "text/html": [
       "<div>\n",
       "<table border=\"1\" class=\"dataframe\">\n",
       "  <thead>\n",
       "    <tr style=\"text-align: right;\">\n",
       "      <th></th>\n",
       "      <th>center_x</th>\n",
       "      <th>center_y</th>\n",
       "      <th>f_min</th>\n",
       "      <th>integration_ms</th>\n",
       "      <th>nspots_x</th>\n",
       "      <th>nspots_y</th>\n",
       "      <th>offset_min</th>\n",
       "      <th>pitch_x</th>\n",
       "      <th>pitch_y</th>\n",
       "      <th>range</th>\n",
       "      <th>residue_max</th>\n",
       "      <th>step</th>\n",
       "      <th>z</th>\n",
       "    </tr>\n",
       "  </thead>\n",
       "  <tbody>\n",
       "    <tr>\n",
       "      <th>2017-05-02 15-30-43</th>\n",
       "      <td>2.0</td>\n",
       "      <td>-67.0</td>\n",
       "      <td>0.7</td>\n",
       "      <td>200</td>\n",
       "      <td>4</td>\n",
       "      <td>4</td>\n",
       "      <td>2000</td>\n",
       "      <td>24.3</td>\n",
       "      <td>23.14</td>\n",
       "      <td>10</td>\n",
       "      <td>1000000.0</td>\n",
       "      <td>0.4</td>\n",
       "      <td>10</td>\n",
       "    </tr>\n",
       "    <tr>\n",
       "      <th>2017-05-02 15-31-01</th>\n",
       "      <td>2.0</td>\n",
       "      <td>-67.0</td>\n",
       "      <td>0.7</td>\n",
       "      <td>200</td>\n",
       "      <td>4</td>\n",
       "      <td>4</td>\n",
       "      <td>2000</td>\n",
       "      <td>24.3</td>\n",
       "      <td>23.14</td>\n",
       "      <td>10</td>\n",
       "      <td>1000000.0</td>\n",
       "      <td>0.4</td>\n",
       "      <td>10</td>\n",
       "    </tr>\n",
       "    <tr>\n",
       "      <th>2017-05-02 15-31-21</th>\n",
       "      <td>2.0</td>\n",
       "      <td>-67.0</td>\n",
       "      <td>0.7</td>\n",
       "      <td>200</td>\n",
       "      <td>4</td>\n",
       "      <td>4</td>\n",
       "      <td>2000</td>\n",
       "      <td>24.3</td>\n",
       "      <td>23.14</td>\n",
       "      <td>10</td>\n",
       "      <td>1000000.0</td>\n",
       "      <td>0.4</td>\n",
       "      <td>10</td>\n",
       "    </tr>\n",
       "  </tbody>\n",
       "</table>\n",
       "</div>"
      ],
      "text/plain": [
       "                     center_x  center_y  f_min  integration_ms  nspots_x  \\\n",
       "2017-05-02 15-30-43       2.0     -67.0    0.7             200         4   \n",
       "2017-05-02 15-31-01       2.0     -67.0    0.7             200         4   \n",
       "2017-05-02 15-31-21       2.0     -67.0    0.7             200         4   \n",
       "\n",
       "                     nspots_y  offset_min  pitch_x  pitch_y  range  \\\n",
       "2017-05-02 15-30-43         4        2000     24.3    23.14     10   \n",
       "2017-05-02 15-31-01         4        2000     24.3    23.14     10   \n",
       "2017-05-02 15-31-21         4        2000     24.3    23.14     10   \n",
       "\n",
       "                     residue_max  step   z  \n",
       "2017-05-02 15-30-43    1000000.0   0.4  10  \n",
       "2017-05-02 15-31-01    1000000.0   0.4  10  \n",
       "2017-05-02 15-31-21    1000000.0   0.4  10  "
      ]
     },
     "execution_count": 11,
     "metadata": {},
     "output_type": "execute_result"
    }
   ],
   "source": [
    "dfg[input_col]"
   ]
  },
  {
   "cell_type": "code",
   "execution_count": 12,
   "metadata": {},
   "outputs": [
    {
     "data": {
      "text/html": [
       "<div>\n",
       "<table border=\"1\" class=\"dataframe\">\n",
       "  <thead>\n",
       "    <tr style=\"text-align: right;\">\n",
       "      <th></th>\n",
       "      <th>center_x_fit</th>\n",
       "      <th>center_y_fit</th>\n",
       "      <th>max_counts_corr</th>\n",
       "      <th>n_inliers</th>\n",
       "      <th>pitch_x_fit</th>\n",
       "      <th>pitch_y_fit</th>\n",
       "      <th>pitch_x_fitrot</th>\n",
       "      <th>pitch_y_fitrot</th>\n",
       "      <th>sigma_x</th>\n",
       "      <th>sigma_y</th>\n",
       "      <th>intensity</th>\n",
       "      <th>z</th>\n",
       "      <th>datetime</th>\n",
       "    </tr>\n",
       "  </thead>\n",
       "  <tbody>\n",
       "    <tr>\n",
       "      <th>2017-05-02 15-30-43</th>\n",
       "      <td>2.016840</td>\n",
       "      <td>-66.976204</td>\n",
       "      <td>25161.15</td>\n",
       "      <td>32</td>\n",
       "      <td>24.196246</td>\n",
       "      <td>23.154499</td>\n",
       "      <td>24.203035</td>\n",
       "      <td>23.175145</td>\n",
       "      <td>1.5630</td>\n",
       "      <td>1.5030</td>\n",
       "      <td>125.80575</td>\n",
       "      <td>10</td>\n",
       "      <td>2017-05-02 15:30:43</td>\n",
       "    </tr>\n",
       "    <tr>\n",
       "      <th>2017-05-02 15-31-01</th>\n",
       "      <td>2.016246</td>\n",
       "      <td>-66.987484</td>\n",
       "      <td>25234.00</td>\n",
       "      <td>32</td>\n",
       "      <td>24.199000</td>\n",
       "      <td>23.154000</td>\n",
       "      <td>24.205699</td>\n",
       "      <td>23.174618</td>\n",
       "      <td>1.5940</td>\n",
       "      <td>1.4925</td>\n",
       "      <td>126.17000</td>\n",
       "      <td>10</td>\n",
       "      <td>2017-05-02 15:31:01</td>\n",
       "    </tr>\n",
       "    <tr>\n",
       "      <th>2017-05-02 15-31-21</th>\n",
       "      <td>2.008159</td>\n",
       "      <td>-66.985668</td>\n",
       "      <td>25209.60</td>\n",
       "      <td>32</td>\n",
       "      <td>24.200249</td>\n",
       "      <td>23.154250</td>\n",
       "      <td>24.207149</td>\n",
       "      <td>23.175104</td>\n",
       "      <td>1.5605</td>\n",
       "      <td>1.5050</td>\n",
       "      <td>126.04800</td>\n",
       "      <td>10</td>\n",
       "      <td>2017-05-02 15:31:21</td>\n",
       "    </tr>\n",
       "  </tbody>\n",
       "</table>\n",
       "</div>"
      ],
      "text/plain": [
       "                     center_x_fit  center_y_fit  max_counts_corr  n_inliers  \\\n",
       "2017-05-02 15-30-43      2.016840    -66.976204         25161.15         32   \n",
       "2017-05-02 15-31-01      2.016246    -66.987484         25234.00         32   \n",
       "2017-05-02 15-31-21      2.008159    -66.985668         25209.60         32   \n",
       "\n",
       "                     pitch_x_fit  pitch_y_fit  pitch_x_fitrot  pitch_y_fitrot  \\\n",
       "2017-05-02 15-30-43    24.196246    23.154499       24.203035       23.175145   \n",
       "2017-05-02 15-31-01    24.199000    23.154000       24.205699       23.174618   \n",
       "2017-05-02 15-31-21    24.200249    23.154250       24.207149       23.175104   \n",
       "\n",
       "                     sigma_x  sigma_y  intensity   z            datetime  \n",
       "2017-05-02 15-30-43   1.5630   1.5030  125.80575  10 2017-05-02 15:30:43  \n",
       "2017-05-02 15-31-01   1.5940   1.4925  126.17000  10 2017-05-02 15:31:01  \n",
       "2017-05-02 15-31-21   1.5605   1.5050  126.04800  10 2017-05-02 15:31:21  "
      ]
     },
     "execution_count": 12,
     "metadata": {},
     "output_type": "execute_result"
    }
   ],
   "source": [
    "dfg[output_col]"
   ]
  },
  {
   "cell_type": "code",
   "execution_count": 13,
   "metadata": {},
   "outputs": [
    {
     "data": {
      "text/html": [
       "<div>\n",
       "<table border=\"1\" class=\"dataframe\">\n",
       "  <thead>\n",
       "    <tr style=\"text-align: right;\">\n",
       "      <th></th>\n",
       "      <th>center_x</th>\n",
       "      <th>center_y</th>\n",
       "      <th>f_min</th>\n",
       "      <th>integration_ms</th>\n",
       "      <th>nspots_x</th>\n",
       "      <th>nspots_y</th>\n",
       "      <th>offset_min</th>\n",
       "      <th>pitch_x</th>\n",
       "      <th>pitch_y</th>\n",
       "      <th>range</th>\n",
       "      <th>residue_max</th>\n",
       "      <th>step</th>\n",
       "      <th>z</th>\n",
       "    </tr>\n",
       "  </thead>\n",
       "  <tbody>\n",
       "    <tr>\n",
       "      <th>2017-05-02 12-55-44</th>\n",
       "      <td>2.0</td>\n",
       "      <td>-67.0</td>\n",
       "      <td>0.7</td>\n",
       "      <td>200</td>\n",
       "      <td>4</td>\n",
       "      <td>4</td>\n",
       "      <td>2000</td>\n",
       "      <td>24.3</td>\n",
       "      <td>23.14</td>\n",
       "      <td>10</td>\n",
       "      <td>1000000.0</td>\n",
       "      <td>0.4</td>\n",
       "      <td>21</td>\n",
       "    </tr>\n",
       "    <tr>\n",
       "      <th>2017-05-02 12-56-07</th>\n",
       "      <td>2.0</td>\n",
       "      <td>-67.0</td>\n",
       "      <td>0.7</td>\n",
       "      <td>200</td>\n",
       "      <td>4</td>\n",
       "      <td>4</td>\n",
       "      <td>2000</td>\n",
       "      <td>24.3</td>\n",
       "      <td>23.14</td>\n",
       "      <td>10</td>\n",
       "      <td>1000000.0</td>\n",
       "      <td>0.4</td>\n",
       "      <td>21</td>\n",
       "    </tr>\n",
       "    <tr>\n",
       "      <th>2017-05-02 12-56-30</th>\n",
       "      <td>2.0</td>\n",
       "      <td>-67.0</td>\n",
       "      <td>0.7</td>\n",
       "      <td>200</td>\n",
       "      <td>4</td>\n",
       "      <td>4</td>\n",
       "      <td>2000</td>\n",
       "      <td>24.3</td>\n",
       "      <td>23.14</td>\n",
       "      <td>10</td>\n",
       "      <td>1000000.0</td>\n",
       "      <td>0.4</td>\n",
       "      <td>21</td>\n",
       "    </tr>\n",
       "  </tbody>\n",
       "</table>\n",
       "</div>"
      ],
      "text/plain": [
       "                     center_x  center_y  f_min  integration_ms  nspots_x  \\\n",
       "2017-05-02 12-55-44       2.0     -67.0    0.7             200         4   \n",
       "2017-05-02 12-56-07       2.0     -67.0    0.7             200         4   \n",
       "2017-05-02 12-56-30       2.0     -67.0    0.7             200         4   \n",
       "\n",
       "                     nspots_y  offset_min  pitch_x  pitch_y  range  \\\n",
       "2017-05-02 12-55-44         4        2000     24.3    23.14     10   \n",
       "2017-05-02 12-56-07         4        2000     24.3    23.14     10   \n",
       "2017-05-02 12-56-30         4        2000     24.3    23.14     10   \n",
       "\n",
       "                     residue_max  step   z  \n",
       "2017-05-02 12-55-44    1000000.0   0.4  21  \n",
       "2017-05-02 12-56-07    1000000.0   0.4  21  \n",
       "2017-05-02 12-56-30    1000000.0   0.4  21  "
      ]
     },
     "execution_count": 13,
     "metadata": {},
     "output_type": "execute_result"
    }
   ],
   "source": [
    "dfr[input_col]"
   ]
  },
  {
   "cell_type": "code",
   "execution_count": 14,
   "metadata": {},
   "outputs": [
    {
     "data": {
      "text/html": [
       "<div>\n",
       "<table border=\"1\" class=\"dataframe\">\n",
       "  <thead>\n",
       "    <tr style=\"text-align: right;\">\n",
       "      <th></th>\n",
       "      <th>center_x_fit</th>\n",
       "      <th>center_y_fit</th>\n",
       "      <th>max_counts_corr</th>\n",
       "      <th>n_inliers</th>\n",
       "      <th>pitch_x_fit</th>\n",
       "      <th>pitch_y_fit</th>\n",
       "      <th>pitch_x_fitrot</th>\n",
       "      <th>pitch_y_fitrot</th>\n",
       "      <th>sigma_x</th>\n",
       "      <th>sigma_y</th>\n",
       "      <th>intensity</th>\n",
       "      <th>z</th>\n",
       "      <th>datetime</th>\n",
       "    </tr>\n",
       "  </thead>\n",
       "  <tbody>\n",
       "    <tr>\n",
       "      <th>2017-05-02 12-55-44</th>\n",
       "      <td>2.026257</td>\n",
       "      <td>-66.989371</td>\n",
       "      <td>42916.85</td>\n",
       "      <td>32</td>\n",
       "      <td>24.227495</td>\n",
       "      <td>23.248253</td>\n",
       "      <td>24.233087</td>\n",
       "      <td>23.264340</td>\n",
       "      <td>1.6060</td>\n",
       "      <td>1.5315</td>\n",
       "      <td>214.58425</td>\n",
       "      <td>21</td>\n",
       "      <td>2017-05-02 12:55:44</td>\n",
       "    </tr>\n",
       "    <tr>\n",
       "      <th>2017-05-02 12-56-07</th>\n",
       "      <td>2.025616</td>\n",
       "      <td>-66.984389</td>\n",
       "      <td>42870.75</td>\n",
       "      <td>32</td>\n",
       "      <td>24.236742</td>\n",
       "      <td>23.246257</td>\n",
       "      <td>24.242389</td>\n",
       "      <td>23.262632</td>\n",
       "      <td>1.6165</td>\n",
       "      <td>1.5020</td>\n",
       "      <td>214.35375</td>\n",
       "      <td>21</td>\n",
       "      <td>2017-05-02 12:56:07</td>\n",
       "    </tr>\n",
       "    <tr>\n",
       "      <th>2017-05-02 12-56-30</th>\n",
       "      <td>2.012504</td>\n",
       "      <td>-66.984378</td>\n",
       "      <td>42983.80</td>\n",
       "      <td>32</td>\n",
       "      <td>24.235491</td>\n",
       "      <td>23.254755</td>\n",
       "      <td>24.241129</td>\n",
       "      <td>23.270918</td>\n",
       "      <td>1.6010</td>\n",
       "      <td>1.5260</td>\n",
       "      <td>214.91900</td>\n",
       "      <td>21</td>\n",
       "      <td>2017-05-02 12:56:30</td>\n",
       "    </tr>\n",
       "  </tbody>\n",
       "</table>\n",
       "</div>"
      ],
      "text/plain": [
       "                     center_x_fit  center_y_fit  max_counts_corr  n_inliers  \\\n",
       "2017-05-02 12-55-44      2.026257    -66.989371         42916.85         32   \n",
       "2017-05-02 12-56-07      2.025616    -66.984389         42870.75         32   \n",
       "2017-05-02 12-56-30      2.012504    -66.984378         42983.80         32   \n",
       "\n",
       "                     pitch_x_fit  pitch_y_fit  pitch_x_fitrot  pitch_y_fitrot  \\\n",
       "2017-05-02 12-55-44    24.227495    23.248253       24.233087       23.264340   \n",
       "2017-05-02 12-56-07    24.236742    23.246257       24.242389       23.262632   \n",
       "2017-05-02 12-56-30    24.235491    23.254755       24.241129       23.270918   \n",
       "\n",
       "                     sigma_x  sigma_y  intensity   z            datetime  \n",
       "2017-05-02 12-55-44   1.6060   1.5315  214.58425  21 2017-05-02 12:55:44  \n",
       "2017-05-02 12-56-07   1.6165   1.5020  214.35375  21 2017-05-02 12:56:07  \n",
       "2017-05-02 12-56-30   1.6010   1.5260  214.91900  21 2017-05-02 12:56:30  "
      ]
     },
     "execution_count": 14,
     "metadata": {},
     "output_type": "execute_result"
    }
   ],
   "source": [
    "dfr[output_col]"
   ]
  },
  {
   "cell_type": "code",
   "execution_count": 15,
   "metadata": {},
   "outputs": [
    {
     "data": {
      "text/html": [
       "<div>\n",
       "<table border=\"1\" class=\"dataframe\">\n",
       "  <thead>\n",
       "    <tr style=\"text-align: right;\">\n",
       "      <th></th>\n",
       "      <th>center_x_fit</th>\n",
       "      <th>center_y_fit</th>\n",
       "      <th>max_counts_corr</th>\n",
       "      <th>n_inliers</th>\n",
       "      <th>pitch_x_fit</th>\n",
       "      <th>pitch_y_fit</th>\n",
       "      <th>pitch_x_fitrot</th>\n",
       "      <th>pitch_y_fitrot</th>\n",
       "      <th>sigma_x</th>\n",
       "      <th>sigma_y</th>\n",
       "      <th>intensity</th>\n",
       "      <th>z</th>\n",
       "      <th>datetime</th>\n",
       "    </tr>\n",
       "  </thead>\n",
       "  <tbody>\n",
       "    <tr>\n",
       "      <th>2017-05-02 13-03-07</th>\n",
       "      <td>10.680618</td>\n",
       "      <td>19.839383</td>\n",
       "      <td>16614.25</td>\n",
       "      <td>32</td>\n",
       "      <td>22.945769</td>\n",
       "      <td>22.682726</td>\n",
       "      <td>22.951525</td>\n",
       "      <td>22.699999</td>\n",
       "      <td>1.6505</td>\n",
       "      <td>1.6030</td>\n",
       "      <td>83.07125</td>\n",
       "      <td>21</td>\n",
       "      <td>2017-05-02 13:03:07</td>\n",
       "    </tr>\n",
       "    <tr>\n",
       "      <th>2017-05-02 13-03-20</th>\n",
       "      <td>10.680594</td>\n",
       "      <td>19.839351</td>\n",
       "      <td>16661.35</td>\n",
       "      <td>32</td>\n",
       "      <td>22.947242</td>\n",
       "      <td>22.690260</td>\n",
       "      <td>22.953158</td>\n",
       "      <td>22.708104</td>\n",
       "      <td>1.6775</td>\n",
       "      <td>1.5870</td>\n",
       "      <td>83.30675</td>\n",
       "      <td>21</td>\n",
       "      <td>2017-05-02 13:03:20</td>\n",
       "    </tr>\n",
       "    <tr>\n",
       "      <th>2017-05-02 13-04-19</th>\n",
       "      <td>10.698769</td>\n",
       "      <td>19.839361</td>\n",
       "      <td>16942.90</td>\n",
       "      <td>32</td>\n",
       "      <td>22.948486</td>\n",
       "      <td>22.674259</td>\n",
       "      <td>22.954399</td>\n",
       "      <td>22.691792</td>\n",
       "      <td>1.6585</td>\n",
       "      <td>1.6145</td>\n",
       "      <td>84.71450</td>\n",
       "      <td>21</td>\n",
       "      <td>2017-05-02 13:04:19</td>\n",
       "    </tr>\n",
       "  </tbody>\n",
       "</table>\n",
       "</div>"
      ],
      "text/plain": [
       "                     center_x_fit  center_y_fit  max_counts_corr  n_inliers  \\\n",
       "2017-05-02 13-03-07     10.680618     19.839383         16614.25         32   \n",
       "2017-05-02 13-03-20     10.680594     19.839351         16661.35         32   \n",
       "2017-05-02 13-04-19     10.698769     19.839361         16942.90         32   \n",
       "\n",
       "                     pitch_x_fit  pitch_y_fit  pitch_x_fitrot  pitch_y_fitrot  \\\n",
       "2017-05-02 13-03-07    22.945769    22.682726       22.951525       22.699999   \n",
       "2017-05-02 13-03-20    22.947242    22.690260       22.953158       22.708104   \n",
       "2017-05-02 13-04-19    22.948486    22.674259       22.954399       22.691792   \n",
       "\n",
       "                     sigma_x  sigma_y  intensity   z            datetime  \n",
       "2017-05-02 13-03-07   1.6505   1.6030   83.07125  21 2017-05-02 13:03:07  \n",
       "2017-05-02 13-03-20   1.6775   1.5870   83.30675  21 2017-05-02 13:03:20  \n",
       "2017-05-02 13-04-19   1.6585   1.6145   84.71450  21 2017-05-02 13:04:19  "
      ]
     },
     "execution_count": 15,
     "metadata": {},
     "output_type": "execute_result"
    }
   ],
   "source": [
    "dfrr[output_col]"
   ]
  },
  {
   "cell_type": "markdown",
   "metadata": {},
   "source": [
    "# Alignment plots"
   ]
  },
  {
   "cell_type": "markdown",
   "metadata": {},
   "source": [
    "### Donor SPAD fitted (x,y) pitch \n",
    "Donor SPAD under 532nm excitation."
   ]
  },
  {
   "cell_type": "code",
   "execution_count": 16,
   "metadata": {
    "scrolled": true
   },
   "outputs": [
    {
     "data": {
      "image/png": "[encoded data removed]",
      "text/plain": [
       "<matplotlib.figure.Figure at 0x7f18ec6b8470>"
      ]
     },
     "metadata": {},
     "output_type": "display_data"
    }
   ],
   "source": [
    "dfg.pitch_x_fit.plot(marker='o', rot=45)\n",
    "dfg.pitch_y_fit.plot(marker='s', rot=45)\n",
    "plt.ylim(23, 24.5)\n",
    "plt.legend()\n",
    "plt.title('Donor SPAD Fitted pitch');"
   ]
  },
  {
   "cell_type": "markdown",
   "metadata": {},
   "source": [
    "### Acceptor SPAD fitted (x,y) pitch \n",
    "Acceptor SPAD under 532nm excitation."
   ]
  },
  {
   "cell_type": "code",
   "execution_count": 17,
   "metadata": {
    "scrolled": true
   },
   "outputs": [
    {
     "data": {
      "image/png": "[encoded data removed]",
      "text/plain": [
       "<matplotlib.figure.Figure at 0x7f18bb8d3a58>"
      ]
     },
     "metadata": {},
     "output_type": "display_data"
    }
   ],
   "source": [
    "dfr.pitch_x_fit.plot(marker='o', rot=45)\n",
    "dfr.pitch_y_fit.plot(marker='s', rot=45)\n",
    "plt.ylim(23, 24.5)\n",
    "plt.legend()\n",
    "plt.title('Acceptor SPAD Fitted pitch');"
   ]
  },
  {
   "cell_type": "markdown",
   "metadata": {},
   "source": [
    "### Acceptor SPAD fitted (x,y) pitch \n",
    "Acceptor SPAD under 628nm excitation."
   ]
  },
  {
   "cell_type": "code",
   "execution_count": 18,
   "metadata": {
    "scrolled": true
   },
   "outputs": [
    {
     "data": {
      "image/png": "[encoded data removed]",
      "text/plain": [
       "<matplotlib.figure.Figure at 0x7f18b9042048>"
      ]
     },
     "metadata": {},
     "output_type": "display_data"
    }
   ],
   "source": [
    "dfrr.pitch_x_fit.plot(marker='o', rot=45)\n",
    "dfrr.pitch_y_fit.plot(marker='s', rot=45)\n",
    "plt.ylim(22.5, 23)\n",
    "plt.legend()\n",
    "plt.title('Acceptor SPAD Fitted pitch @628nm');"
   ]
  },
  {
   "cell_type": "markdown",
   "metadata": {},
   "source": [
    "# Fitted LCOS positions"
   ]
  },
  {
   "cell_type": "markdown",
   "metadata": {},
   "source": [
    "## Pitch X, Green LCOS"
   ]
  },
  {
   "cell_type": "code",
   "execution_count": 19,
   "metadata": {},
   "outputs": [
    {
     "data": {
      "text/plain": [
       "24.233242954119106"
      ]
     },
     "execution_count": 19,
     "metadata": {},
     "output_type": "execute_result"
    }
   ],
   "source": [
    "accept_pitch_x = dfr.pitch_x_fit.mean()\n",
    "accept_pitch_x"
   ]
  },
  {
   "cell_type": "code",
   "execution_count": 20,
   "metadata": {},
   "outputs": [
    {
     "data": {
      "text/plain": [
       "24.238868430044704"
      ]
     },
     "execution_count": 20,
     "metadata": {},
     "output_type": "execute_result"
    }
   ],
   "source": [
    "accept_pitch_xrot = dfr.pitch_x_fitrot.mean()\n",
    "accept_pitch_xrot"
   ]
  },
  {
   "cell_type": "code",
   "execution_count": 21,
   "metadata": {},
   "outputs": [
    {
     "data": {
      "text/plain": [
       "24.198498158502517"
      ]
     },
     "execution_count": 21,
     "metadata": {},
     "output_type": "execute_result"
    }
   ],
   "source": [
    "donor_pitch_x = dfg.pitch_x_fit.mean()\n",
    "donor_pitch_x"
   ]
  },
  {
   "cell_type": "markdown",
   "metadata": {},
   "source": [
    "#### Mean X-pitch\n",
    "An average of two pitches from fitted multiscan results. "
   ]
  },
  {
   "cell_type": "code",
   "execution_count": 22,
   "metadata": {},
   "outputs": [
    {
     "data": {
      "text/plain": [
       "24.205294450007624"
      ]
     },
     "execution_count": 22,
     "metadata": {},
     "output_type": "execute_result"
    }
   ],
   "source": [
    "donor_pitch_xrot = dfg.pitch_x_fitrot.mean()\n",
    "donor_pitch_xrot"
   ]
  },
  {
   "cell_type": "code",
   "execution_count": 23,
   "metadata": {},
   "outputs": [
    {
     "data": {
      "text/plain": [
       "24.219999999999999"
      ]
     },
     "execution_count": 23,
     "metadata": {},
     "output_type": "execute_result"
    }
   ],
   "source": [
    "np.round(0.5*(donor_pitch_x + accept_pitch_x), 2)"
   ]
  },
  {
   "cell_type": "markdown",
   "metadata": {},
   "source": [
    "## Pitch Y, Green LCOS"
   ]
  },
  {
   "cell_type": "code",
   "execution_count": 24,
   "metadata": {},
   "outputs": [
    {
     "data": {
      "text/plain": [
       "23.249755033719779"
      ]
     },
     "execution_count": 24,
     "metadata": {},
     "output_type": "execute_result"
    }
   ],
   "source": [
    "accept_pitch_y = dfr.pitch_y_fit.mean()\n",
    "accept_pitch_y"
   ]
  },
  {
   "cell_type": "code",
   "execution_count": 25,
   "metadata": {},
   "outputs": [
    {
     "data": {
      "text/plain": [
       "23.265963676858195"
      ]
     },
     "execution_count": 25,
     "metadata": {},
     "output_type": "execute_result"
    }
   ],
   "source": [
    "accept_pitch_yrot = dfr.pitch_y_fitrot.mean()\n",
    "accept_pitch_yrot"
   ]
  },
  {
   "cell_type": "code",
   "execution_count": 26,
   "metadata": {},
   "outputs": [
    {
     "data": {
      "text/plain": [
       "23.154249766912994"
      ]
     },
     "execution_count": 26,
     "metadata": {},
     "output_type": "execute_result"
    }
   ],
   "source": [
    "donor_pitch_y = dfg.pitch_y_fit.mean()\n",
    "donor_pitch_y"
   ]
  },
  {
   "cell_type": "code",
   "execution_count": 27,
   "metadata": {},
   "outputs": [
    {
     "data": {
      "text/plain": [
       "23.17495570240597"
      ]
     },
     "execution_count": 27,
     "metadata": {},
     "output_type": "execute_result"
    }
   ],
   "source": [
    "donor_pitch_yrot = dfg.pitch_y_fitrot.mean()\n",
    "donor_pitch_yrot"
   ]
  },
  {
   "cell_type": "code",
   "execution_count": 28,
   "metadata": {},
   "outputs": [
    {
     "data": {
      "text/plain": [
       "23.199999999999999"
      ]
     },
     "execution_count": 28,
     "metadata": {},
     "output_type": "execute_result"
    }
   ],
   "source": [
    "np.round(0.5*(donor_pitch_y + accept_pitch_y), 2)"
   ]
  },
  {
   "cell_type": "markdown",
   "metadata": {},
   "source": [
    "## Red LCOS"
   ]
  },
  {
   "cell_type": "code",
   "execution_count": 29,
   "metadata": {},
   "outputs": [
    {
     "data": {
      "text/plain": [
       "22.947165673095736"
      ]
     },
     "execution_count": 29,
     "metadata": {},
     "output_type": "execute_result"
    }
   ],
   "source": [
    "Raccept_pitch_x = dfrr.pitch_x_fit.mean()\n",
    "Raccept_pitch_x"
   ]
  },
  {
   "cell_type": "code",
   "execution_count": 30,
   "metadata": {},
   "outputs": [
    {
     "data": {
      "text/plain": [
       "22.953027555915316"
      ]
     },
     "execution_count": 30,
     "metadata": {},
     "output_type": "execute_result"
    }
   ],
   "source": [
    "Raccept_pitch_xrot = dfrr.pitch_x_fitrot.mean()\n",
    "Raccept_pitch_xrot"
   ]
  },
  {
   "cell_type": "code",
   "execution_count": 31,
   "metadata": {},
   "outputs": [
    {
     "data": {
      "text/plain": [
       "22.682415108299413"
      ]
     },
     "execution_count": 31,
     "metadata": {},
     "output_type": "execute_result"
    }
   ],
   "source": [
    "Raccept_pitch_y = dfrr.pitch_y_fit.mean()\n",
    "Raccept_pitch_y"
   ]
  },
  {
   "cell_type": "code",
   "execution_count": 32,
   "metadata": {},
   "outputs": [
    {
     "data": {
      "text/plain": [
       "22.699964858437639"
      ]
     },
     "execution_count": 32,
     "metadata": {},
     "output_type": "execute_result"
    }
   ],
   "source": [
    "Raccept_pitch_yrot = dfrr.pitch_y_fitrot.mean()\n",
    "Raccept_pitch_yrot"
   ]
  },
  {
   "cell_type": "markdown",
   "metadata": {},
   "source": [
    "## Rotation\n",
    "Rotation of the SPADs over time"
   ]
  },
  {
   "cell_type": "code",
   "execution_count": 33,
   "metadata": {},
   "outputs": [
    {
     "data": {
      "text/plain": [
       "<matplotlib.legend.Legend at 0x7f18b8f77a58>"
      ]
     },
     "execution_count": 33,
     "metadata": {},
     "output_type": "execute_result"
    },
    {
     "data": {
      "image/png": "[encoded data removed]",
      "text/plain": [
       "<matplotlib.figure.Figure at 0x7f18b8f771d0>"
      ]
     },
     "metadata": {},
     "output_type": "display_data"
    }
   ],
   "source": [
    "dfg.rotation.plot(marker='o', rot=45)\n",
    "dfr.rotation.plot(marker='o', rot=45)\n",
    "plt.title('SPADs Rotation @ 532nm');\n",
    "plt.ylim(1, 2)\n",
    "plt.legend(['Donor SPAD', 'Acceptor SPAD'])"
   ]
  },
  {
   "cell_type": "code",
   "execution_count": 34,
   "metadata": {},
   "outputs": [
    {
     "data": {
      "text/plain": [
       "(1.3876428172241839, 1.234668323651986, -1.2993172809102276)"
      ]
     },
     "execution_count": 34,
     "metadata": {},
     "output_type": "execute_result"
    }
   ],
   "source": [
    "dfg.rotation.mean(), dfr.rotation.mean(), dfrr.rotation.mean()"
   ]
  },
  {
   "cell_type": "code",
   "execution_count": 35,
   "metadata": {},
   "outputs": [
    {
     "data": {
      "text/plain": [
       "1.3111555704380851"
      ]
     },
     "execution_count": 35,
     "metadata": {},
     "output_type": "execute_result"
    }
   ],
   "source": [
    "np.mean([dfg.rotation.mean(), dfr.rotation.mean()])"
   ]
  },
  {
   "cell_type": "code",
   "execution_count": 36,
   "metadata": {},
   "outputs": [
    {
     "data": {
      "text/plain": [
       "(-1, -2)"
      ]
     },
     "execution_count": 36,
     "metadata": {},
     "output_type": "execute_result"
    },
    {
     "data": {
      "image/png": "[encoded data removed]",
      "text/plain": [
       "<matplotlib.figure.Figure at 0x7f18b8eac0f0>"
      ]
     },
     "metadata": {},
     "output_type": "display_data"
    }
   ],
   "source": [
    "dfrr.rotation.plot(marker='o', rot=45)\n",
    "plt.title('A SPAD Rotation @ 628nm');\n",
    "plt.ylim(-1, -2)"
   ]
  },
  {
   "cell_type": "code",
   "execution_count": null,
   "metadata": {
    "collapsed": true
   },
   "outputs": [],
   "source": []
  }
 ],
 "metadata": {
  "anaconda-cloud": {},
  "kernelspec": {
   "display_name": "py36",
   "language": "python",
   "name": "py36"
  },
  "language_info": {
   "codemirror_mode": {
    "name": "ipython",
    "version": 3
   },
   "file_extension": ".py",
   "mimetype": "text/x-python",
   "name": "python",
   "nbconvert_exporter": "python",
   "pygments_lexer": "ipython3",
   "version": "3.6.0"
  },
  "nav_menu": {},
  "toc": {
   "colors": {
    "hover_highlight": "#DAA520",
    "navigate_num": "#000000",
    "navigate_text": "#333333",
    "running_highlight": "#FF0000",
    "selected_highlight": "#FFD700",
    "sidebar_border": "#EEEEEE",
    "wrapper_background": "#FFFFFF"
   },
   "moveMenuLeft": true,
   "nav_menu": {
    "height": "120px",
    "width": "252px"
   },
   "navigate_menu": true,
   "number_sections": false,
   "sideBar": true,
   "threshold": 4,
   "toc_cell": false,
   "toc_section_display": "block",
   "toc_window_display": false,
   "widenNotebook": false
  }
 },
 "nbformat": 4,
 "nbformat_minor": 1
}
