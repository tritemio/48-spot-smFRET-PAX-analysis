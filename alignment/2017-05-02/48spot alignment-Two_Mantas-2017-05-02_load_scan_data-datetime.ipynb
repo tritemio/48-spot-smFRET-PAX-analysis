{
 "cells": [
  {
   "cell_type": "code",
   "execution_count": 1,
   "metadata": {
    "collapsed": true
   },
   "outputs": [],
   "source": [
    "date = '2017-05-02'\n",
    "iscan_Dspad532 = 20\n",
    "iscan_Aspad532 = 6\n",
    "basename = 'two_mantas'"
   ]
  },
  {
   "cell_type": "code",
   "execution_count": 2,
   "metadata": {},
   "outputs": [
    {
     "data": {
      "text/plain": [
       "'two_mantas_lv_scan_log.txt'"
      ]
     },
     "execution_count": 2,
     "metadata": {},
     "output_type": "execute_result"
    }
   ],
   "source": [
    "#log_fname = '%s/%s_lv_scan_log2.txt' % (date, basename)\n",
    "log_fname = '%s_lv_scan_log.txt' % basename\n",
    "log_fname"
   ]
  },
  {
   "cell_type": "code",
   "execution_count": 3,
   "metadata": {},
   "outputs": [],
   "source": [
    "import os\n",
    "from collections import OrderedDict\n",
    "import numpy as np\n",
    "import pandas as pd\n",
    "import ruamel_yaml\n",
    "\n",
    "import matplotlib.pyplot as plt\n",
    "%matplotlib inline"
   ]
  },
  {
   "cell_type": "markdown",
   "metadata": {},
   "source": [
    "# Read Scan Data"
   ]
  },
  {
   "cell_type": "code",
   "execution_count": 4,
   "metadata": {
    "collapsed": true
   },
   "outputs": [],
   "source": [
    "def param_line_to_df(line, scan_params, tidy=False):\n",
    "    \"\"\"Convert \"Parameters\" line of fit results from LV into a DataFrame.\n",
    "    \"\"\"\n",
    "    spot_params_arr = np.array([\n",
    "            [float(param.replace('[', '')) for param in spot_str.split(',')] \n",
    "            for spot_str in line.split(':')[1].strip().split('],')[:-1] ])\n",
    "    if spot_params_arr.shape[1] == 3:\n",
    "        spot_params_arr = np.hstack((spotsa, np.zeros((spotsa.shape[0], 2))))\n",
    "    elif spot_params_arr.shape[1] == 4:\n",
    "        spot_params_arr = np.hstack((spotsa, np.zeros((spotsa.shape[0], 1))))\n",
    "    \n",
    "    columns = ['ampl', 'center', 'sigma', 'offset', 'residue']\n",
    "    df = (pd.DataFrame(spot_params_arr, columns=columns)\n",
    "            .assign(residue=lambda x: x.residue)\n",
    "            .assign(ix=scan_params['coord_x'])\n",
    "            .assign(iy=scan_params['coord_y']))\n",
    "    if tidy:\n",
    "        df = pd.melt(df, id_vars=['ix', 'iy'], var_name='param')\n",
    "    return df"
   ]
  },
  {
   "cell_type": "code",
   "execution_count": 5,
   "metadata": {
    "collapsed": true
   },
   "outputs": [],
   "source": [
    "def load_scan_data(log_fname):\n",
    "    \"\"\"\n",
    "    Read scan text from file and return a dict with keys 'timestamps, values.' \n",
    "    \"\"\"\n",
    "    with open(log_fname) as f:\n",
    "        scandata_raw = f.read().strip()\n",
    "    scandata_list = scandata_raw.split('---\\n')[1:]\n",
    "    print('Number of scans: %d' % len(scandata_list))\n",
    "    datetime_list = []\n",
    "    \n",
    "    datetime_list = []\n",
    "    for scandata in scandata_list:\n",
    "        line_list = scandata.split('\\n')\n",
    "        line = line_list[0]\n",
    "        item_list = line.split(',')\n",
    "        for item in item_list:\n",
    "            if 'datetime' in item:\n",
    "                datetime = item.split(':')[1].strip()            \n",
    "        datetime_list.append(datetime)   \n",
    "        \n",
    "    dict_of_scans = {x: y for x, y in zip(datetime_list, scandata_list)}\n",
    "    \n",
    "    return dict_of_scans"
   ]
  },
  {
   "cell_type": "code",
   "execution_count": 6,
   "metadata": {
    "collapsed": true
   },
   "outputs": [],
   "source": [
    "def get_scan_params(line):\n",
    "    \"\"\"Convert line of scan parameters from LV into a dict.\n",
    "    \"\"\"\n",
    "    scan_params = ruamel_yaml.load('\\n'.join(s.strip() for s in line.split(',')))\n",
    "    scan_params['coord_x'] = np.tile(np.arange(scan_params['nspots_x']), \n",
    "                                     scan_params['nspots_y'])\n",
    "    scan_params['coord_y'] = np.repeat(np.arange(scan_params['nspots_y']), \n",
    "                                       scan_params['nspots_x'])\n",
    "    return scan_params"
   ]
  },
  {
   "cell_type": "code",
   "execution_count": 7,
   "metadata": {
    "collapsed": true
   },
   "outputs": [],
   "source": [
    "def process_scan(fit_result_text, ixline=6, iyline=7):\n",
    "    \"\"\"\n",
    "    Read a multi-line scan text from LV and return a DataFrame \n",
    "    of fitted parameters and a dict of scan parameters.\n",
    "    \"\"\"\n",
    "    lines = fit_result_text.split('\\n')\n",
    "    scan_params = get_scan_params(lines[0])\n",
    "    xdf = param_line_to_df(lines[ixline], scan_params).assign(direction='x')\n",
    "    ydf = param_line_to_df(lines[iyline], scan_params).assign(direction='y')\n",
    "    df = pd.concat((xdf, ydf))\n",
    "    df = df.assign(direction=pd.Categorical(df.direction))\n",
    "    return df, scan_params"
   ]
  },
  {
   "cell_type": "markdown",
   "metadata": {},
   "source": [
    "# List of all scans"
   ]
  },
  {
   "cell_type": "code",
   "execution_count": 8,
   "metadata": {},
   "outputs": [
    {
     "name": "stdout",
     "output_type": "stream",
     "text": [
      "Number of scans: 21\n"
     ]
    },
    {
     "data": {
      "text/plain": [
       "dict_keys(['2017-05-02 12-45-29', '2017-05-02 12-47-11', '2017-05-02 12-47-31', '2017-05-02 12-52-37', '2017-05-02 12-55-44', '2017-05-02 12-56-07', '2017-05-02 12-56-30', '2017-05-02 12-59-45', '2017-05-02 13-01-10', '2017-05-02 13-02-06', '2017-05-02 13-02-28', '2017-05-02 13-02-45', '2017-05-02 13-03-07', '2017-05-02 13-03-20', '2017-05-02 13-04-19', '2017-05-02 15-28-57', '2017-05-02 15-29-51', '2017-05-02 15-30-19', '2017-05-02 15-30-43', '2017-05-02 15-31-01', '2017-05-02 15-31-21'])"
      ]
     },
     "execution_count": 8,
     "metadata": {},
     "output_type": "execute_result"
    }
   ],
   "source": [
    "dict_of_scans = load_scan_data(log_fname)\n",
    "dict_of_scans.keys()"
   ]
  },
  {
   "cell_type": "code",
   "execution_count": 9,
   "metadata": {},
   "outputs": [
    {
     "name": "stdout",
     "output_type": "stream",
     "text": [
      "2017-05-02 12-45-29\n",
      "2017-05-02 12-47-11\n",
      "2017-05-02 12-47-31\n",
      "2017-05-02 15-28-57\n",
      "2017-05-02 15-29-51\n",
      "2017-05-02 15-30-19\n",
      "2017-05-02 15-30-43\n",
      "2017-05-02 15-31-01\n",
      "2017-05-02 15-31-21\n"
     ]
    }
   ],
   "source": [
    "for datet, scan in dict_of_scans.items():\n",
    "    if 'laser: G, ch: G' in scan:\n",
    "        print(datet)"
   ]
  },
  {
   "cell_type": "code",
   "execution_count": 10,
   "metadata": {},
   "outputs": [
    {
     "name": "stdout",
     "output_type": "stream",
     "text": [
      "2017-05-02 12-52-37\n",
      "2017-05-02 12-55-44\n",
      "2017-05-02 12-56-07\n",
      "2017-05-02 12-56-30\n"
     ]
    }
   ],
   "source": [
    "for datet, scan in dict_of_scans.items():\n",
    "    if 'laser: G, ch: R' in scan:\n",
    "        print(datet)"
   ]
  },
  {
   "cell_type": "markdown",
   "metadata": {},
   "source": [
    "# Scan Data Analysis"
   ]
  },
  {
   "cell_type": "code",
   "execution_count": 11,
   "metadata": {},
   "outputs": [
    {
     "data": {
      "text/plain": [
       "{'center_x': 2.0,\n",
       " 'center_y': -67.0,\n",
       " 'ch': 'G',\n",
       " 'coord_x': array([0, 1, 2, 3, 0, 1, 2, 3, 0, 1, 2, 3, 0, 1, 2, 3]),\n",
       " 'coord_y': array([0, 0, 0, 0, 1, 1, 1, 1, 2, 2, 2, 2, 3, 3, 3, 3]),\n",
       " 'datetime': '2017-05-02 15-31-21',\n",
       " 'integration_ms': 200,\n",
       " 'laser': 'G',\n",
       " 'nspots_x': 4,\n",
       " 'nspots_y': 4,\n",
       " 'pitch_x': 24.3,\n",
       " 'pitch_y': 23.14,\n",
       " 'range': 10,\n",
       " 'step': 0.4,\n",
       " 'z': 10}"
      ]
     },
     "execution_count": 11,
     "metadata": {},
     "output_type": "execute_result"
    }
   ],
   "source": [
    "dfD532, scan_params = process_scan(dict_of_scans['2017-05-02 15-31-21'])\n",
    "scan_params"
   ]
  },
  {
   "cell_type": "code",
   "execution_count": 12,
   "metadata": {
    "scrolled": true
   },
   "outputs": [
    {
     "data": {
      "text/html": [
       "<div>\n",
       "<table border=\"1\" class=\"dataframe\">\n",
       "  <thead>\n",
       "    <tr style=\"text-align: right;\">\n",
       "      <th></th>\n",
       "      <th>ampl</th>\n",
       "      <th>center</th>\n",
       "      <th>sigma</th>\n",
       "      <th>offset</th>\n",
       "      <th>residue</th>\n",
       "      <th>ix</th>\n",
       "      <th>iy</th>\n",
       "      <th>direction</th>\n",
       "    </tr>\n",
       "  </thead>\n",
       "  <tbody>\n",
       "    <tr>\n",
       "      <th>0</th>\n",
       "      <td>8962.3</td>\n",
       "      <td>-33.35</td>\n",
       "      <td>1.665</td>\n",
       "      <td>11910.8</td>\n",
       "      <td>67288.92</td>\n",
       "      <td>0</td>\n",
       "      <td>0</td>\n",
       "      <td>x</td>\n",
       "    </tr>\n",
       "    <tr>\n",
       "      <th>1</th>\n",
       "      <td>12827.8</td>\n",
       "      <td>-9.25</td>\n",
       "      <td>1.630</td>\n",
       "      <td>13671.6</td>\n",
       "      <td>103603.36</td>\n",
       "      <td>1</td>\n",
       "      <td>0</td>\n",
       "      <td>x</td>\n",
       "    </tr>\n",
       "    <tr>\n",
       "      <th>2</th>\n",
       "      <td>13552.4</td>\n",
       "      <td>14.92</td>\n",
       "      <td>1.586</td>\n",
       "      <td>14302.2</td>\n",
       "      <td>105898.81</td>\n",
       "      <td>2</td>\n",
       "      <td>0</td>\n",
       "      <td>x</td>\n",
       "    </tr>\n",
       "    <tr>\n",
       "      <th>3</th>\n",
       "      <td>12328.2</td>\n",
       "      <td>39.12</td>\n",
       "      <td>1.677</td>\n",
       "      <td>13040.3</td>\n",
       "      <td>126666.61</td>\n",
       "      <td>3</td>\n",
       "      <td>0</td>\n",
       "      <td>x</td>\n",
       "    </tr>\n",
       "    <tr>\n",
       "      <th>4</th>\n",
       "      <td>7666.4</td>\n",
       "      <td>-34.00</td>\n",
       "      <td>1.524</td>\n",
       "      <td>13227.2</td>\n",
       "      <td>44112.92</td>\n",
       "      <td>0</td>\n",
       "      <td>1</td>\n",
       "      <td>x</td>\n",
       "    </tr>\n",
       "  </tbody>\n",
       "</table>\n",
       "</div>"
      ],
      "text/plain": [
       "      ampl  center  sigma   offset    residue  ix  iy direction\n",
       "0   8962.3  -33.35  1.665  11910.8   67288.92   0   0         x\n",
       "1  12827.8   -9.25  1.630  13671.6  103603.36   1   0         x\n",
       "2  13552.4   14.92  1.586  14302.2  105898.81   2   0         x\n",
       "3  12328.2   39.12  1.677  13040.3  126666.61   3   0         x\n",
       "4   7666.4  -34.00  1.524  13227.2   44112.92   0   1         x"
      ]
     },
     "execution_count": 12,
     "metadata": {},
     "output_type": "execute_result"
    }
   ],
   "source": [
    "dfD532.head()"
   ]
  },
  {
   "cell_type": "code",
   "execution_count": 13,
   "metadata": {},
   "outputs": [
    {
     "data": {
      "text/plain": [
       "{'center_x': 2.0,\n",
       " 'center_y': -67.0,\n",
       " 'ch': 'R',\n",
       " 'coord_x': array([0, 1, 2, 3, 0, 1, 2, 3, 0, 1, 2, 3, 0, 1, 2, 3]),\n",
       " 'coord_y': array([0, 0, 0, 0, 1, 1, 1, 1, 2, 2, 2, 2, 3, 3, 3, 3]),\n",
       " 'datetime': '2017-05-02 12-56-30',\n",
       " 'integration_ms': 200,\n",
       " 'laser': 'G',\n",
       " 'nspots_x': 4,\n",
       " 'nspots_y': 4,\n",
       " 'pitch_x': 24.3,\n",
       " 'pitch_y': 23.14,\n",
       " 'range': 10,\n",
       " 'step': 0.4,\n",
       " 'z': 21}"
      ]
     },
     "execution_count": 13,
     "metadata": {},
     "output_type": "execute_result"
    }
   ],
   "source": [
    "dfA532, scan_params = process_scan(dict_of_scans['2017-05-02 12-56-30'])\n",
    "scan_params"
   ]
  },
  {
   "cell_type": "code",
   "execution_count": 14,
   "metadata": {
    "scrolled": true
   },
   "outputs": [
    {
     "data": {
      "text/html": [
       "<div>\n",
       "<table border=\"1\" class=\"dataframe\">\n",
       "  <thead>\n",
       "    <tr style=\"text-align: right;\">\n",
       "      <th></th>\n",
       "      <th>ampl</th>\n",
       "      <th>center</th>\n",
       "      <th>sigma</th>\n",
       "      <th>offset</th>\n",
       "      <th>residue</th>\n",
       "      <th>ix</th>\n",
       "      <th>iy</th>\n",
       "      <th>direction</th>\n",
       "    </tr>\n",
       "  </thead>\n",
       "  <tbody>\n",
       "    <tr>\n",
       "      <th>0</th>\n",
       "      <td>15102.9</td>\n",
       "      <td>-33.50</td>\n",
       "      <td>1.742</td>\n",
       "      <td>19918.9</td>\n",
       "      <td>167553.94</td>\n",
       "      <td>0</td>\n",
       "      <td>0</td>\n",
       "      <td>x</td>\n",
       "    </tr>\n",
       "    <tr>\n",
       "      <th>1</th>\n",
       "      <td>20737.1</td>\n",
       "      <td>-9.34</td>\n",
       "      <td>1.677</td>\n",
       "      <td>23114.2</td>\n",
       "      <td>314309.72</td>\n",
       "      <td>1</td>\n",
       "      <td>0</td>\n",
       "      <td>x</td>\n",
       "    </tr>\n",
       "    <tr>\n",
       "      <th>2</th>\n",
       "      <td>16334.9</td>\n",
       "      <td>14.74</td>\n",
       "      <td>1.580</td>\n",
       "      <td>16871.5</td>\n",
       "      <td>171775.64</td>\n",
       "      <td>2</td>\n",
       "      <td>0</td>\n",
       "      <td>x</td>\n",
       "    </tr>\n",
       "    <tr>\n",
       "      <th>3</th>\n",
       "      <td>22071.3</td>\n",
       "      <td>39.10</td>\n",
       "      <td>1.698</td>\n",
       "      <td>21182.0</td>\n",
       "      <td>338741.92</td>\n",
       "      <td>3</td>\n",
       "      <td>0</td>\n",
       "      <td>x</td>\n",
       "    </tr>\n",
       "    <tr>\n",
       "      <th>4</th>\n",
       "      <td>13887.8</td>\n",
       "      <td>-34.08</td>\n",
       "      <td>1.626</td>\n",
       "      <td>22289.2</td>\n",
       "      <td>87368.06</td>\n",
       "      <td>0</td>\n",
       "      <td>1</td>\n",
       "      <td>x</td>\n",
       "    </tr>\n",
       "  </tbody>\n",
       "</table>\n",
       "</div>"
      ],
      "text/plain": [
       "      ampl  center  sigma   offset    residue  ix  iy direction\n",
       "0  15102.9  -33.50  1.742  19918.9  167553.94   0   0         x\n",
       "1  20737.1   -9.34  1.677  23114.2  314309.72   1   0         x\n",
       "2  16334.9   14.74  1.580  16871.5  171775.64   2   0         x\n",
       "3  22071.3   39.10  1.698  21182.0  338741.92   3   0         x\n",
       "4  13887.8  -34.08  1.626  22289.2   87368.06   0   1         x"
      ]
     },
     "execution_count": 14,
     "metadata": {},
     "output_type": "execute_result"
    }
   ],
   "source": [
    "dfA532.head()"
   ]
  },
  {
   "cell_type": "code",
   "execution_count": 15,
   "metadata": {
    "collapsed": true
   },
   "outputs": [],
   "source": [
    "dfD532.to_csv('D_SPAD_532nm.csv')"
   ]
  },
  {
   "cell_type": "code",
   "execution_count": 16,
   "metadata": {
    "collapsed": true
   },
   "outputs": [],
   "source": [
    "dfA532.to_csv('A_SPAD_532nm.csv')"
   ]
  },
  {
   "cell_type": "code",
   "execution_count": 17,
   "metadata": {},
   "outputs": [
    {
     "data": {
      "text/plain": [
       "'E:\\\\Data\\\\Antonio\\\\data\\\\manta\\\\notebooks\\\\48-spot_paper\\\\alignment\\\\2017-05-02'"
      ]
     },
     "execution_count": 17,
     "metadata": {},
     "output_type": "execute_result"
    }
   ],
   "source": [
    "pwd"
   ]
  },
  {
   "cell_type": "code",
   "execution_count": null,
   "metadata": {
    "collapsed": true
   },
   "outputs": [],
   "source": []
  }
 ],
 "metadata": {
  "kernelspec": {
   "display_name": "Python [conda env:py36]",
   "language": "python",
   "name": "conda-env-py36-py"
  },
  "language_info": {
   "codemirror_mode": {
    "name": "ipython",
    "version": 3
   },
   "file_extension": ".py",
   "mimetype": "text/x-python",
   "name": "python",
   "nbconvert_exporter": "python",
   "pygments_lexer": "ipython3",
   "version": "3.6.1"
  },
  "nav_menu": {
   "height": "291px",
   "width": "337px"
  },
  "toc": {
   "navigate_menu": true,
   "number_sections": true,
   "sideBar": true,
   "threshold": 4,
   "toc_cell": false,
   "toc_section_display": "block",
   "toc_window_display": true
  },
  "toc_position": {
   "height": "837px",
   "left": "0px",
   "right": "851px",
   "top": "106px",
   "width": "212px"
  }
 },
 "nbformat": 4,
 "nbformat_minor": 1
}
