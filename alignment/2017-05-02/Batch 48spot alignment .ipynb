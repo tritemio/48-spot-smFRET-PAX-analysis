{
 "cells": [
  {
   "cell_type": "markdown",
   "metadata": {},
   "source": [
    "# Process alignment scans in batch\n",
    "\n",
    "Multiscans using a 4x4 LCOS pattern are collected with both donor and acceptor SPADs. Multiple multiscans are collected in order to accurately locate the center of both SPADs. I.e. scanning is performed in triplicate with both detectors under 532nm excitation, denoted as GG and GR for donor and acceptor respectively. An additional set of triplicate scans is collected for the acceptor SPAD under 628nm excitaion, denoted as RR. The three combinations of triplicate multiscans are processed here in batch. \n",
    "\n",
    "This notebook takes the output text file `'two_mantas_lv_scan_log.txt'` from the LabView multiscan GUI and processes scans in the scan log with `'48spot alignment-Two_Mantas_load_scan_data-datetime.ipynb.'` "
   ]
  },
  {
   "cell_type": "markdown",
   "metadata": {},
   "source": [
    "# Open scan log file"
   ]
  },
  {
   "cell_type": "code",
   "execution_count": 1,
   "metadata": {
    "collapsed": true
   },
   "outputs": [],
   "source": [
    "date = '2017-05-02'"
   ]
  },
  {
   "cell_type": "code",
   "execution_count": 2,
   "metadata": {
    "collapsed": true
   },
   "outputs": [],
   "source": [
    "with open('two_mantas_lv_scan_log.txt') as f:\n",
    "    s = f.read()"
   ]
  },
  {
   "cell_type": "code",
   "execution_count": 3,
   "metadata": {
    "collapsed": true
   },
   "outputs": [],
   "source": [
    "scan_list = s.strip().split('---')[1:]"
   ]
  },
  {
   "cell_type": "markdown",
   "metadata": {},
   "source": [
    "## Print scan parameters of a single scan"
   ]
  },
  {
   "cell_type": "code",
   "execution_count": 5,
   "metadata": {
    "scrolled": false
   },
   "outputs": [
    {
     "name": "stdout",
     "output_type": "stream",
     "text": [
      "\n",
      "step: 0.4, range: 10, integration_ms: 200, nspots_x: 4, nspots_y: 4, pitch_x: 24.30, pitch_y: 23.14, center_x: 2.00, center_y: -67.00, datetime: 2017-05-02 12-56-30, z: 21, laser: G, ch: R\n",
      "\n",
      "\n",
      "\n",
      "Raw Fit Parameters (Amplitude, Center Pos, Sigma, Offset, Residue)\n",
      "\n",
      "X Parameters: [15102.9, -33.50,  1.742, 19918.9, 167553.94], [20737.1,  -9.34,  1.677, 23114.2, 314309.72], [16334.9,  14.74,  1.580, 16871.5, 171775.64], [22071.3,  39.10,  1.698, 21182.0, 338741.92], [13887.8, -34.08,  1.626, 22289.2, 87368.06], [19387.6,  -9.83,  1.618, 25083.6, 145326.49], [20267.9,  14.38,  1.583, 25132.5, 159605.46], [20617.0,  38.66,  1.600, 23383.1, 382442.12], [15360.4, -34.62,  1.604, 21527.3, 116912.61], [19980.3, -10.36,  1.583, 24819.3, 139293.57], [20240.2,  13.91,  1.546, 25031.2, 108715.55], [19229.9,  38.12,  1.602, 23705.7, 186556.63], [15062.8, -35.14,  1.680, 19353.5, 160319.66], [18798.5, -10.88,  1.574, 22338.7, 158342.94], [20376.8,  13.40,  1.557, 22655.2, 164532.53], [18806.0,  37.64,  1.561, 21422.4, 105916.33],\n",
      "Y Parameters: [18381.8, -102.66,  1.676, 20132.9, 329237.12], [21562.6, -102.22,  1.570, 23480.5, 320892.19], [15541.3, -101.49,  1.475, 17234.6, 98062.99], [21811.0, -101.07,  1.507, 22099.9, 170779.03], [18010.8, -79.36,  1.518, 22614.0, 227490.70], [20693.2, -78.89,  1.466, 25751.4, 193161.89], [19780.2, -78.39,  1.470, 25437.7, 174631.58], [21876.5, -77.88,  1.485, 23543.8, 216728.05], [18133.6, -56.05,  1.534, 21681.0, 161254.48], [19988.0, -55.62,  1.516, 25002.9, 134260.19], [18715.0, -55.09,  1.500, 25008.1, 93913.92], [19933.2, -54.60,  1.559, 23224.1, 215663.55], [14977.6, -32.95,  1.537, 20002.0, 187723.83], [15348.5, -32.37,  1.594, 22349.9, 151440.02], [15431.9, -31.84,  1.633, 22250.6, 242139.63], [16868.8, -31.27,  1.666, 20435.3, 229572.88],\n",
      "\n",
      "\n"
     ]
    }
   ],
   "source": [
    "print(scan_list[6])"
   ]
  },
  {
   "cell_type": "markdown",
   "metadata": {},
   "source": [
    "# Batch process scans"
   ]
  },
  {
   "cell_type": "code",
   "execution_count": 7,
   "metadata": {
    "collapsed": true
   },
   "outputs": [],
   "source": [
    "from pathlib import Path\n",
    "from nbrun import run_notebook"
   ]
  },
  {
   "cell_type": "code",
   "execution_count": 8,
   "metadata": {
    "collapsed": true
   },
   "outputs": [],
   "source": [
    "nb_name = '48spot alignment-Two_Mantas_load_scan_data-datetime.ipynb'"
   ]
  },
  {
   "cell_type": "markdown",
   "metadata": {},
   "source": [
    "##  Enumerate scans in scan log"
   ]
  },
  {
   "cell_type": "markdown",
   "metadata": {},
   "source": [
    "### Enumerate GG scans"
   ]
  },
  {
   "cell_type": "code",
   "execution_count": 9,
   "metadata": {},
   "outputs": [
    {
     "name": "stdout",
     "output_type": "stream",
     "text": [
      "0\n",
      "1\n",
      "2\n",
      "15\n",
      "16\n",
      "17\n",
      "18\n",
      "19\n",
      "20\n"
     ]
    }
   ],
   "source": [
    "for i, scan in enumerate(scan_list):\n",
    "    if 'laser: G, ch: G' in scan:\n",
    "        print(i)"
   ]
  },
  {
   "cell_type": "markdown",
   "metadata": {},
   "source": [
    "### Enumerate GR scans"
   ]
  },
  {
   "cell_type": "code",
   "execution_count": 10,
   "metadata": {},
   "outputs": [
    {
     "name": "stdout",
     "output_type": "stream",
     "text": [
      "3\n",
      "4\n",
      "5\n",
      "6\n"
     ]
    }
   ],
   "source": [
    "for i, scan in enumerate(scan_list):\n",
    "    if 'laser: G, ch: R' in scan:\n",
    "        print(i)"
   ]
  },
  {
   "cell_type": "markdown",
   "metadata": {},
   "source": [
    "### Enumerate RR scans"
   ]
  },
  {
   "cell_type": "code",
   "execution_count": 11,
   "metadata": {},
   "outputs": [
    {
     "name": "stdout",
     "output_type": "stream",
     "text": [
      "7\n",
      "8\n",
      "9\n",
      "10\n",
      "11\n",
      "12\n",
      "13\n",
      "14\n"
     ]
    }
   ],
   "source": [
    "for i, scan in enumerate(scan_list):\n",
    "    if 'laser: R, ch: R' in scan:\n",
    "        print(i)"
   ]
  },
  {
   "cell_type": "markdown",
   "metadata": {},
   "source": [
    "# Batch output"
   ]
  },
  {
   "cell_type": "markdown",
   "metadata": {},
   "source": [
    "### GG scan output notebooks "
   ]
  },
  {
   "cell_type": "code",
   "execution_count": 12,
   "metadata": {},
   "outputs": [
    {
     "name": "stdout",
     "output_type": "stream",
     "text": [
      "Processing scan 0\n"
     ]
    },
    {
     "data": {
      "text/html": [
       "<a href='48spot alignment-Two_Mantas_load_scan_data-datetime.ipynb' target='_blank'>48spot alignment-Two_Mantas_load_scan_data-datetime.ipynb</a><br>"
      ],
      "text/plain": [
       "/mnt/archive/Antonio/data/manta/notebooks/48-spot_paper/alignment/2017-05-02/48spot alignment-Two_Mantas_load_scan_data-datetime.ipynb"
      ]
     },
     "metadata": {},
     "output_type": "display_data"
    },
    {
     "data": {
      "text/html": [
       "<a href='scan_reports/0_48spot alignment-Two_Mantas_load_scan_data-datetime.ipynb' target='_blank'>scan_reports/0_48spot alignment-Two_Mantas_load_scan_data-datetime.ipynb</a><br>"
      ],
      "text/plain": [
       "/mnt/archive/Antonio/data/manta/notebooks/48-spot_paper/alignment/2017-05-02/scan_reports/0_48spot alignment-Two_Mantas_load_scan_data-datetime.ipynb"
      ]
     },
     "metadata": {},
     "output_type": "display_data"
    },
    {
     "name": "stdout",
     "output_type": "stream",
     "text": [
      "Processing scan 1\n"
     ]
    },
    {
     "data": {
      "text/html": [
       "<a href='48spot alignment-Two_Mantas_load_scan_data-datetime.ipynb' target='_blank'>48spot alignment-Two_Mantas_load_scan_data-datetime.ipynb</a><br>"
      ],
      "text/plain": [
       "/mnt/archive/Antonio/data/manta/notebooks/48-spot_paper/alignment/2017-05-02/48spot alignment-Two_Mantas_load_scan_data-datetime.ipynb"
      ]
     },
     "metadata": {},
     "output_type": "display_data"
    },
    {
     "data": {
      "text/html": [
       "<a href='scan_reports/1_48spot alignment-Two_Mantas_load_scan_data-datetime.ipynb' target='_blank'>scan_reports/1_48spot alignment-Two_Mantas_load_scan_data-datetime.ipynb</a><br>"
      ],
      "text/plain": [
       "/mnt/archive/Antonio/data/manta/notebooks/48-spot_paper/alignment/2017-05-02/scan_reports/1_48spot alignment-Two_Mantas_load_scan_data-datetime.ipynb"
      ]
     },
     "metadata": {},
     "output_type": "display_data"
    },
    {
     "name": "stdout",
     "output_type": "stream",
     "text": [
      "Processing scan 2\n"
     ]
    },
    {
     "data": {
      "text/html": [
       "<a href='48spot alignment-Two_Mantas_load_scan_data-datetime.ipynb' target='_blank'>48spot alignment-Two_Mantas_load_scan_data-datetime.ipynb</a><br>"
      ],
      "text/plain": [
       "/mnt/archive/Antonio/data/manta/notebooks/48-spot_paper/alignment/2017-05-02/48spot alignment-Two_Mantas_load_scan_data-datetime.ipynb"
      ]
     },
     "metadata": {},
     "output_type": "display_data"
    },
    {
     "data": {
      "text/html": [
       "<a href='scan_reports/2_48spot alignment-Two_Mantas_load_scan_data-datetime.ipynb' target='_blank'>scan_reports/2_48spot alignment-Two_Mantas_load_scan_data-datetime.ipynb</a><br>"
      ],
      "text/plain": [
       "/mnt/archive/Antonio/data/manta/notebooks/48-spot_paper/alignment/2017-05-02/scan_reports/2_48spot alignment-Two_Mantas_load_scan_data-datetime.ipynb"
      ]
     },
     "metadata": {},
     "output_type": "display_data"
    },
    {
     "name": "stdout",
     "output_type": "stream",
     "text": [
      "Processing scan 15\n"
     ]
    },
    {
     "data": {
      "text/html": [
       "<a href='48spot alignment-Two_Mantas_load_scan_data-datetime.ipynb' target='_blank'>48spot alignment-Two_Mantas_load_scan_data-datetime.ipynb</a><br>"
      ],
      "text/plain": [
       "/mnt/archive/Antonio/data/manta/notebooks/48-spot_paper/alignment/2017-05-02/48spot alignment-Two_Mantas_load_scan_data-datetime.ipynb"
      ]
     },
     "metadata": {},
     "output_type": "display_data"
    },
    {
     "data": {
      "text/html": [
       "<a href='scan_reports/15_48spot alignment-Two_Mantas_load_scan_data-datetime.ipynb' target='_blank'>scan_reports/15_48spot alignment-Two_Mantas_load_scan_data-datetime.ipynb</a><br>"
      ],
      "text/plain": [
       "/mnt/archive/Antonio/data/manta/notebooks/48-spot_paper/alignment/2017-05-02/scan_reports/15_48spot alignment-Two_Mantas_load_scan_data-datetime.ipynb"
      ]
     },
     "metadata": {},
     "output_type": "display_data"
    },
    {
     "name": "stdout",
     "output_type": "stream",
     "text": [
      "Processing scan 16\n"
     ]
    },
    {
     "data": {
      "text/html": [
       "<a href='48spot alignment-Two_Mantas_load_scan_data-datetime.ipynb' target='_blank'>48spot alignment-Two_Mantas_load_scan_data-datetime.ipynb</a><br>"
      ],
      "text/plain": [
       "/mnt/archive/Antonio/data/manta/notebooks/48-spot_paper/alignment/2017-05-02/48spot alignment-Two_Mantas_load_scan_data-datetime.ipynb"
      ]
     },
     "metadata": {},
     "output_type": "display_data"
    },
    {
     "data": {
      "text/html": [
       "<a href='scan_reports/16_48spot alignment-Two_Mantas_load_scan_data-datetime.ipynb' target='_blank'>scan_reports/16_48spot alignment-Two_Mantas_load_scan_data-datetime.ipynb</a><br>"
      ],
      "text/plain": [
       "/mnt/archive/Antonio/data/manta/notebooks/48-spot_paper/alignment/2017-05-02/scan_reports/16_48spot alignment-Two_Mantas_load_scan_data-datetime.ipynb"
      ]
     },
     "metadata": {},
     "output_type": "display_data"
    },
    {
     "name": "stdout",
     "output_type": "stream",
     "text": [
      "Processing scan 17\n"
     ]
    },
    {
     "data": {
      "text/html": [
       "<a href='48spot alignment-Two_Mantas_load_scan_data-datetime.ipynb' target='_blank'>48spot alignment-Two_Mantas_load_scan_data-datetime.ipynb</a><br>"
      ],
      "text/plain": [
       "/mnt/archive/Antonio/data/manta/notebooks/48-spot_paper/alignment/2017-05-02/48spot alignment-Two_Mantas_load_scan_data-datetime.ipynb"
      ]
     },
     "metadata": {},
     "output_type": "display_data"
    },
    {
     "data": {
      "text/html": [
       "<a href='scan_reports/17_48spot alignment-Two_Mantas_load_scan_data-datetime.ipynb' target='_blank'>scan_reports/17_48spot alignment-Two_Mantas_load_scan_data-datetime.ipynb</a><br>"
      ],
      "text/plain": [
       "/mnt/archive/Antonio/data/manta/notebooks/48-spot_paper/alignment/2017-05-02/scan_reports/17_48spot alignment-Two_Mantas_load_scan_data-datetime.ipynb"
      ]
     },
     "metadata": {},
     "output_type": "display_data"
    },
    {
     "name": "stdout",
     "output_type": "stream",
     "text": [
      "Processing scan 18\n"
     ]
    },
    {
     "data": {
      "text/html": [
       "<a href='48spot alignment-Two_Mantas_load_scan_data-datetime.ipynb' target='_blank'>48spot alignment-Two_Mantas_load_scan_data-datetime.ipynb</a><br>"
      ],
      "text/plain": [
       "/mnt/archive/Antonio/data/manta/notebooks/48-spot_paper/alignment/2017-05-02/48spot alignment-Two_Mantas_load_scan_data-datetime.ipynb"
      ]
     },
     "metadata": {},
     "output_type": "display_data"
    },
    {
     "data": {
      "text/html": [
       "<a href='scan_reports/18_48spot alignment-Two_Mantas_load_scan_data-datetime.ipynb' target='_blank'>scan_reports/18_48spot alignment-Two_Mantas_load_scan_data-datetime.ipynb</a><br>"
      ],
      "text/plain": [
       "/mnt/archive/Antonio/data/manta/notebooks/48-spot_paper/alignment/2017-05-02/scan_reports/18_48spot alignment-Two_Mantas_load_scan_data-datetime.ipynb"
      ]
     },
     "metadata": {},
     "output_type": "display_data"
    },
    {
     "name": "stdout",
     "output_type": "stream",
     "text": [
      "Processing scan 19\n"
     ]
    },
    {
     "data": {
      "text/html": [
       "<a href='48spot alignment-Two_Mantas_load_scan_data-datetime.ipynb' target='_blank'>48spot alignment-Two_Mantas_load_scan_data-datetime.ipynb</a><br>"
      ],
      "text/plain": [
       "/mnt/archive/Antonio/data/manta/notebooks/48-spot_paper/alignment/2017-05-02/48spot alignment-Two_Mantas_load_scan_data-datetime.ipynb"
      ]
     },
     "metadata": {},
     "output_type": "display_data"
    },
    {
     "data": {
      "text/html": [
       "<a href='scan_reports/19_48spot alignment-Two_Mantas_load_scan_data-datetime.ipynb' target='_blank'>scan_reports/19_48spot alignment-Two_Mantas_load_scan_data-datetime.ipynb</a><br>"
      ],
      "text/plain": [
       "/mnt/archive/Antonio/data/manta/notebooks/48-spot_paper/alignment/2017-05-02/scan_reports/19_48spot alignment-Two_Mantas_load_scan_data-datetime.ipynb"
      ]
     },
     "metadata": {},
     "output_type": "display_data"
    },
    {
     "name": "stdout",
     "output_type": "stream",
     "text": [
      "Processing scan 20\n"
     ]
    },
    {
     "data": {
      "text/html": [
       "<a href='48spot alignment-Two_Mantas_load_scan_data-datetime.ipynb' target='_blank'>48spot alignment-Two_Mantas_load_scan_data-datetime.ipynb</a><br>"
      ],
      "text/plain": [
       "/mnt/archive/Antonio/data/manta/notebooks/48-spot_paper/alignment/2017-05-02/48spot alignment-Two_Mantas_load_scan_data-datetime.ipynb"
      ]
     },
     "metadata": {},
     "output_type": "display_data"
    },
    {
     "data": {
      "text/html": [
       "<a href='scan_reports/20_48spot alignment-Two_Mantas_load_scan_data-datetime.ipynb' target='_blank'>scan_reports/20_48spot alignment-Two_Mantas_load_scan_data-datetime.ipynb</a><br>"
      ],
      "text/plain": [
       "/mnt/archive/Antonio/data/manta/notebooks/48-spot_paper/alignment/2017-05-02/scan_reports/20_48spot alignment-Two_Mantas_load_scan_data-datetime.ipynb"
      ]
     },
     "metadata": {},
     "output_type": "display_data"
    }
   ],
   "source": [
    "for i, scan in enumerate(scan_list):\n",
    "    if 'laser: G, ch: G' in scan:\n",
    "        print('Processing scan %d' % i)\n",
    "        out_name = '%d' % i + '_' + nb_name\n",
    "        out_path = Path('scan_reports/%s' % out_name)\n",
    "        run_notebook(nb_name, out_path_ipynb=out_path,\n",
    "                     nb_kwargs={'iscan': i, 'date': date})"
   ]
  },
  {
   "cell_type": "markdown",
   "metadata": {},
   "source": [
    "### GR scan output notebooks "
   ]
  },
  {
   "cell_type": "code",
   "execution_count": 13,
   "metadata": {},
   "outputs": [
    {
     "name": "stdout",
     "output_type": "stream",
     "text": [
      "Processing scan 3\n"
     ]
    },
    {
     "data": {
      "text/html": [
       "<a href='48spot alignment-Two_Mantas_load_scan_data-datetime.ipynb' target='_blank'>48spot alignment-Two_Mantas_load_scan_data-datetime.ipynb</a><br>"
      ],
      "text/plain": [
       "/mnt/archive/Antonio/data/manta/notebooks/48-spot_paper/alignment/2017-05-02/48spot alignment-Two_Mantas_load_scan_data-datetime.ipynb"
      ]
     },
     "metadata": {},
     "output_type": "display_data"
    },
    {
     "data": {
      "text/html": [
       "<a href='scan_reports/3_48spot alignment-Two_Mantas_load_scan_data-datetime.ipynb' target='_blank'>scan_reports/3_48spot alignment-Two_Mantas_load_scan_data-datetime.ipynb</a><br>"
      ],
      "text/plain": [
       "/mnt/archive/Antonio/data/manta/notebooks/48-spot_paper/alignment/2017-05-02/scan_reports/3_48spot alignment-Two_Mantas_load_scan_data-datetime.ipynb"
      ]
     },
     "metadata": {},
     "output_type": "display_data"
    },
    {
     "name": "stdout",
     "output_type": "stream",
     "text": [
      "Processing scan 4\n"
     ]
    },
    {
     "data": {
      "text/html": [
       "<a href='48spot alignment-Two_Mantas_load_scan_data-datetime.ipynb' target='_blank'>48spot alignment-Two_Mantas_load_scan_data-datetime.ipynb</a><br>"
      ],
      "text/plain": [
       "/mnt/archive/Antonio/data/manta/notebooks/48-spot_paper/alignment/2017-05-02/48spot alignment-Two_Mantas_load_scan_data-datetime.ipynb"
      ]
     },
     "metadata": {},
     "output_type": "display_data"
    },
    {
     "data": {
      "text/html": [
       "<a href='scan_reports/4_48spot alignment-Two_Mantas_load_scan_data-datetime.ipynb' target='_blank'>scan_reports/4_48spot alignment-Two_Mantas_load_scan_data-datetime.ipynb</a><br>"
      ],
      "text/plain": [
       "/mnt/archive/Antonio/data/manta/notebooks/48-spot_paper/alignment/2017-05-02/scan_reports/4_48spot alignment-Two_Mantas_load_scan_data-datetime.ipynb"
      ]
     },
     "metadata": {},
     "output_type": "display_data"
    },
    {
     "name": "stdout",
     "output_type": "stream",
     "text": [
      "Processing scan 5\n"
     ]
    },
    {
     "data": {
      "text/html": [
       "<a href='48spot alignment-Two_Mantas_load_scan_data-datetime.ipynb' target='_blank'>48spot alignment-Two_Mantas_load_scan_data-datetime.ipynb</a><br>"
      ],
      "text/plain": [
       "/mnt/archive/Antonio/data/manta/notebooks/48-spot_paper/alignment/2017-05-02/48spot alignment-Two_Mantas_load_scan_data-datetime.ipynb"
      ]
     },
     "metadata": {},
     "output_type": "display_data"
    },
    {
     "data": {
      "text/html": [
       "<a href='scan_reports/5_48spot alignment-Two_Mantas_load_scan_data-datetime.ipynb' target='_blank'>scan_reports/5_48spot alignment-Two_Mantas_load_scan_data-datetime.ipynb</a><br>"
      ],
      "text/plain": [
       "/mnt/archive/Antonio/data/manta/notebooks/48-spot_paper/alignment/2017-05-02/scan_reports/5_48spot alignment-Two_Mantas_load_scan_data-datetime.ipynb"
      ]
     },
     "metadata": {},
     "output_type": "display_data"
    },
    {
     "name": "stdout",
     "output_type": "stream",
     "text": [
      "Processing scan 6\n"
     ]
    },
    {
     "data": {
      "text/html": [
       "<a href='48spot alignment-Two_Mantas_load_scan_data-datetime.ipynb' target='_blank'>48spot alignment-Two_Mantas_load_scan_data-datetime.ipynb</a><br>"
      ],
      "text/plain": [
       "/mnt/archive/Antonio/data/manta/notebooks/48-spot_paper/alignment/2017-05-02/48spot alignment-Two_Mantas_load_scan_data-datetime.ipynb"
      ]
     },
     "metadata": {},
     "output_type": "display_data"
    },
    {
     "data": {
      "text/html": [
       "<a href='scan_reports/6_48spot alignment-Two_Mantas_load_scan_data-datetime.ipynb' target='_blank'>scan_reports/6_48spot alignment-Two_Mantas_load_scan_data-datetime.ipynb</a><br>"
      ],
      "text/plain": [
       "/mnt/archive/Antonio/data/manta/notebooks/48-spot_paper/alignment/2017-05-02/scan_reports/6_48spot alignment-Two_Mantas_load_scan_data-datetime.ipynb"
      ]
     },
     "metadata": {},
     "output_type": "display_data"
    }
   ],
   "source": [
    "for i, scan in enumerate(scan_list):\n",
    "    if 'laser: G, ch: R' in scan:\n",
    "        print('Processing scan %d' % i)\n",
    "        out_name = '%d' % i + '_' + nb_name\n",
    "        out_path = Path('scan_reports/%s' % out_name)\n",
    "        run_notebook(nb_name, out_path_ipynb=out_path,\n",
    "                     nb_kwargs={'iscan': i, 'date': date})"
   ]
  },
  {
   "cell_type": "markdown",
   "metadata": {},
   "source": [
    "### RR scan output notebooks "
   ]
  },
  {
   "cell_type": "code",
   "execution_count": 14,
   "metadata": {},
   "outputs": [
    {
     "name": "stdout",
     "output_type": "stream",
     "text": [
      "Processing scan 12\n"
     ]
    },
    {
     "data": {
      "text/html": [
       "<a href='48spot alignment-Two_Mantas_load_scan_data-datetime.ipynb' target='_blank'>48spot alignment-Two_Mantas_load_scan_data-datetime.ipynb</a><br>"
      ],
      "text/plain": [
       "/mnt/archive/Antonio/data/manta/notebooks/48-spot_paper/alignment/2017-05-02/48spot alignment-Two_Mantas_load_scan_data-datetime.ipynb"
      ]
     },
     "metadata": {},
     "output_type": "display_data"
    },
    {
     "data": {
      "text/html": [
       "<a href='scan_reports/12_48spot alignment-Two_Mantas_load_scan_data-datetime.ipynb' target='_blank'>scan_reports/12_48spot alignment-Two_Mantas_load_scan_data-datetime.ipynb</a><br>"
      ],
      "text/plain": [
       "/mnt/archive/Antonio/data/manta/notebooks/48-spot_paper/alignment/2017-05-02/scan_reports/12_48spot alignment-Two_Mantas_load_scan_data-datetime.ipynb"
      ]
     },
     "metadata": {},
     "output_type": "display_data"
    },
    {
     "name": "stdout",
     "output_type": "stream",
     "text": [
      "Processing scan 13\n"
     ]
    },
    {
     "data": {
      "text/html": [
       "<a href='48spot alignment-Two_Mantas_load_scan_data-datetime.ipynb' target='_blank'>48spot alignment-Two_Mantas_load_scan_data-datetime.ipynb</a><br>"
      ],
      "text/plain": [
       "/mnt/archive/Antonio/data/manta/notebooks/48-spot_paper/alignment/2017-05-02/48spot alignment-Two_Mantas_load_scan_data-datetime.ipynb"
      ]
     },
     "metadata": {},
     "output_type": "display_data"
    },
    {
     "data": {
      "text/html": [
       "<a href='scan_reports/13_48spot alignment-Two_Mantas_load_scan_data-datetime.ipynb' target='_blank'>scan_reports/13_48spot alignment-Two_Mantas_load_scan_data-datetime.ipynb</a><br>"
      ],
      "text/plain": [
       "/mnt/archive/Antonio/data/manta/notebooks/48-spot_paper/alignment/2017-05-02/scan_reports/13_48spot alignment-Two_Mantas_load_scan_data-datetime.ipynb"
      ]
     },
     "metadata": {},
     "output_type": "display_data"
    },
    {
     "name": "stdout",
     "output_type": "stream",
     "text": [
      "Processing scan 14\n"
     ]
    },
    {
     "data": {
      "text/html": [
       "<a href='48spot alignment-Two_Mantas_load_scan_data-datetime.ipynb' target='_blank'>48spot alignment-Two_Mantas_load_scan_data-datetime.ipynb</a><br>"
      ],
      "text/plain": [
       "/mnt/archive/Antonio/data/manta/notebooks/48-spot_paper/alignment/2017-05-02/48spot alignment-Two_Mantas_load_scan_data-datetime.ipynb"
      ]
     },
     "metadata": {},
     "output_type": "display_data"
    },
    {
     "data": {
      "text/html": [
       "<a href='scan_reports/14_48spot alignment-Two_Mantas_load_scan_data-datetime.ipynb' target='_blank'>scan_reports/14_48spot alignment-Two_Mantas_load_scan_data-datetime.ipynb</a><br>"
      ],
      "text/plain": [
       "/mnt/archive/Antonio/data/manta/notebooks/48-spot_paper/alignment/2017-05-02/scan_reports/14_48spot alignment-Two_Mantas_load_scan_data-datetime.ipynb"
      ]
     },
     "metadata": {},
     "output_type": "display_data"
    }
   ],
   "source": [
    "for i, scan in enumerate(scan_list):\n",
    "    if 'laser: R, ch: R' in scan and i > 11:\n",
    "        print('Processing scan %d' % i)\n",
    "        out_name = '%d' % i + '_' + nb_name\n",
    "        out_path = Path('scan_reports/%s' % out_name)\n",
    "        run_notebook(nb_name, out_path_ipynb=out_path,\n",
    "                     nb_kwargs={'iscan': i, 'date': date})"
   ]
  }
 ],
 "metadata": {
  "kernelspec": {
   "display_name": "py36",
   "language": "python",
   "name": "py36"
  },
  "language_info": {
   "codemirror_mode": {
    "name": "ipython",
    "version": 3
   },
   "file_extension": ".py",
   "mimetype": "text/x-python",
   "name": "python",
   "nbconvert_exporter": "python",
   "pygments_lexer": "ipython3",
   "version": "3.6.0"
  },
  "nav_menu": {},
  "toc": {
   "colors": {
    "hover_highlight": "#DAA520",
    "navigate_num": "#000000",
    "navigate_text": "#333333",
    "running_highlight": "#FF0000",
    "selected_highlight": "#FFD700",
    "sidebar_border": "#EEEEEE",
    "wrapper_background": "#FFFFFF"
   },
   "moveMenuLeft": true,
   "nav_menu": {
    "height": "12px",
    "width": "252px"
   },
   "navigate_menu": true,
   "number_sections": false,
   "sideBar": true,
   "threshold": 4,
   "toc_cell": false,
   "toc_section_display": "block",
   "toc_window_display": true,
   "widenNotebook": false
  }
 },
 "nbformat": 4,
 "nbformat_minor": 1
}
