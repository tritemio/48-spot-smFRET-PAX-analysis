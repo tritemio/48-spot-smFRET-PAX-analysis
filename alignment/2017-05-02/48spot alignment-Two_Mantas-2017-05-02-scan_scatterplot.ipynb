{
 "cells": [
  {
   "cell_type": "code",
   "execution_count": 1,
   "metadata": {
    "collapsed": true
   },
   "outputs": [],
   "source": [
    "import glob\n",
    "import numpy as np\n",
    "import pandas as pd\n",
    "from pathlib import Path\n",
    "\n",
    "import matplotlib.pylab as plt\n",
    "import matplotlib as mpl\n",
    "%matplotlib inline\n",
    "%config InlineBackend.figure_format = 'retina'\n",
    "mpl.rcParams['font.sans-serif'].insert(0, 'Arial')\n",
    "mpl.rcParams['font.size'] = 12"
   ]
  },
  {
   "cell_type": "code",
   "execution_count": 14,
   "metadata": {
    "collapsed": true
   },
   "outputs": [],
   "source": [
    "save_figures = True\n",
    "savefigdir_ = 'figures'\n",
    "\n",
    "def save_name(name, folder='.', nospaces=False):\n",
    "    sname = '%s/%s_%s' % (folder, mlabel, name)\n",
    "    if nospaces:\n",
    "        sname.replace(' ', '_')\n",
    "    return sname \n",
    "    \n",
    "def savefig(name, nospaces=False, **kwargs):\n",
    "    if not save_figures:\n",
    "        return\n",
    "    kwargs_ = dict(dpi=200, bbox_inches='tight')\n",
    "                   #frameon=True, facecolor='white', transparent=False)\n",
    "    kwargs_.update(kwargs)\n",
    "    fname = save_name(name, savefigdir_, nospaces=nospaces)\n",
    "    plt.savefig(fname, **kwargs_)\n",
    "    print('Saved: %s.png' % fname)"
   ]
  },
  {
   "cell_type": "markdown",
   "metadata": {},
   "source": [
    "# Load CSV files"
   ]
  },
  {
   "cell_type": "code",
   "execution_count": 15,
   "metadata": {
    "collapsed": true
   },
   "outputs": [],
   "source": [
    "mlabel = '2017-05-02'"
   ]
  },
  {
   "cell_type": "code",
   "execution_count": 16,
   "metadata": {
    "collapsed": true
   },
   "outputs": [],
   "source": [
    "date = '.' #'2017-05-02'"
   ]
  },
  {
   "cell_type": "code",
   "execution_count": 17,
   "metadata": {},
   "outputs": [
    {
     "data": {
      "text/plain": [
       "WindowsPath('.')"
      ]
     },
     "execution_count": 17,
     "metadata": {},
     "output_type": "execute_result"
    }
   ],
   "source": [
    "dir_ = Path(date)\n",
    "dir_"
   ]
  },
  {
   "cell_type": "code",
   "execution_count": 18,
   "metadata": {},
   "outputs": [
    {
     "data": {
      "text/plain": [
       "[WindowsPath('A_SPAD_532nm.csv'),\n",
       " WindowsPath('D_SPAD_532nm.csv'),\n",
       " WindowsPath('G_SPAD_532nm_log2.csv')]"
      ]
     },
     "execution_count": 18,
     "metadata": {},
     "output_type": "execute_result"
    }
   ],
   "source": [
    "files = [f for f in dir_.glob('*.csv')]\n",
    "files"
   ]
  },
  {
   "cell_type": "code",
   "execution_count": 19,
   "metadata": {},
   "outputs": [
    {
     "data": {
      "text/plain": [
       "'E:\\\\Data\\\\Antonio\\\\data\\\\manta\\\\notebooks\\\\48-spot_paper\\\\alignment\\\\2017-05-02'"
      ]
     },
     "execution_count": 19,
     "metadata": {},
     "output_type": "execute_result"
    }
   ],
   "source": [
    "pwd"
   ]
  },
  {
   "cell_type": "markdown",
   "metadata": {},
   "source": [
    "# Dataframes from csv"
   ]
  },
  {
   "cell_type": "code",
   "execution_count": 20,
   "metadata": {},
   "outputs": [
    {
     "data": {
      "text/html": [
       "<div>\n",
       "<table border=\"1\" class=\"dataframe\">\n",
       "  <thead>\n",
       "    <tr style=\"text-align: right;\">\n",
       "      <th></th>\n",
       "      <th>ampl</th>\n",
       "      <th>center</th>\n",
       "      <th>sigma</th>\n",
       "      <th>offset</th>\n",
       "      <th>residue</th>\n",
       "      <th>ix</th>\n",
       "      <th>iy</th>\n",
       "      <th>direction</th>\n",
       "    </tr>\n",
       "  </thead>\n",
       "  <tbody>\n",
       "    <tr>\n",
       "      <th>0</th>\n",
       "      <td>8962.3</td>\n",
       "      <td>-33.35</td>\n",
       "      <td>1.665</td>\n",
       "      <td>11910.8</td>\n",
       "      <td>67288.92</td>\n",
       "      <td>0</td>\n",
       "      <td>0</td>\n",
       "      <td>x</td>\n",
       "    </tr>\n",
       "    <tr>\n",
       "      <th>1</th>\n",
       "      <td>12827.8</td>\n",
       "      <td>-9.25</td>\n",
       "      <td>1.630</td>\n",
       "      <td>13671.6</td>\n",
       "      <td>103603.36</td>\n",
       "      <td>1</td>\n",
       "      <td>0</td>\n",
       "      <td>x</td>\n",
       "    </tr>\n",
       "    <tr>\n",
       "      <th>2</th>\n",
       "      <td>13552.4</td>\n",
       "      <td>14.92</td>\n",
       "      <td>1.586</td>\n",
       "      <td>14302.2</td>\n",
       "      <td>105898.81</td>\n",
       "      <td>2</td>\n",
       "      <td>0</td>\n",
       "      <td>x</td>\n",
       "    </tr>\n",
       "    <tr>\n",
       "      <th>3</th>\n",
       "      <td>12328.2</td>\n",
       "      <td>39.12</td>\n",
       "      <td>1.677</td>\n",
       "      <td>13040.3</td>\n",
       "      <td>126666.61</td>\n",
       "      <td>3</td>\n",
       "      <td>0</td>\n",
       "      <td>x</td>\n",
       "    </tr>\n",
       "    <tr>\n",
       "      <th>4</th>\n",
       "      <td>7666.4</td>\n",
       "      <td>-34.00</td>\n",
       "      <td>1.524</td>\n",
       "      <td>13227.2</td>\n",
       "      <td>44112.92</td>\n",
       "      <td>0</td>\n",
       "      <td>1</td>\n",
       "      <td>x</td>\n",
       "    </tr>\n",
       "  </tbody>\n",
       "</table>\n",
       "</div>"
      ],
      "text/plain": [
       "      ampl  center  sigma   offset    residue  ix  iy direction\n",
       "0   8962.3  -33.35  1.665  11910.8   67288.92   0   0         x\n",
       "1  12827.8   -9.25  1.630  13671.6  103603.36   1   0         x\n",
       "2  13552.4   14.92  1.586  14302.2  105898.81   2   0         x\n",
       "3  12328.2   39.12  1.677  13040.3  126666.61   3   0         x\n",
       "4   7666.4  -34.00  1.524  13227.2   44112.92   0   1         x"
      ]
     },
     "execution_count": 20,
     "metadata": {},
     "output_type": "execute_result"
    }
   ],
   "source": [
    "df_gg = pd.read_csv('D_SPAD_532nm.csv', index_col=0)\n",
    "df_gg.head()"
   ]
  },
  {
   "cell_type": "code",
   "execution_count": 21,
   "metadata": {},
   "outputs": [
    {
     "data": {
      "text/html": [
       "<div>\n",
       "<table border=\"1\" class=\"dataframe\">\n",
       "  <thead>\n",
       "    <tr style=\"text-align: right;\">\n",
       "      <th></th>\n",
       "      <th>ampl</th>\n",
       "      <th>center</th>\n",
       "      <th>sigma</th>\n",
       "      <th>offset</th>\n",
       "      <th>residue</th>\n",
       "      <th>ix</th>\n",
       "      <th>iy</th>\n",
       "      <th>direction</th>\n",
       "    </tr>\n",
       "  </thead>\n",
       "  <tbody>\n",
       "    <tr>\n",
       "      <th>0</th>\n",
       "      <td>15102.9</td>\n",
       "      <td>-33.50</td>\n",
       "      <td>1.742</td>\n",
       "      <td>19918.9</td>\n",
       "      <td>167553.94</td>\n",
       "      <td>0</td>\n",
       "      <td>0</td>\n",
       "      <td>x</td>\n",
       "    </tr>\n",
       "    <tr>\n",
       "      <th>1</th>\n",
       "      <td>20737.1</td>\n",
       "      <td>-9.34</td>\n",
       "      <td>1.677</td>\n",
       "      <td>23114.2</td>\n",
       "      <td>314309.72</td>\n",
       "      <td>1</td>\n",
       "      <td>0</td>\n",
       "      <td>x</td>\n",
       "    </tr>\n",
       "    <tr>\n",
       "      <th>2</th>\n",
       "      <td>16334.9</td>\n",
       "      <td>14.74</td>\n",
       "      <td>1.580</td>\n",
       "      <td>16871.5</td>\n",
       "      <td>171775.64</td>\n",
       "      <td>2</td>\n",
       "      <td>0</td>\n",
       "      <td>x</td>\n",
       "    </tr>\n",
       "    <tr>\n",
       "      <th>3</th>\n",
       "      <td>22071.3</td>\n",
       "      <td>39.10</td>\n",
       "      <td>1.698</td>\n",
       "      <td>21182.0</td>\n",
       "      <td>338741.92</td>\n",
       "      <td>3</td>\n",
       "      <td>0</td>\n",
       "      <td>x</td>\n",
       "    </tr>\n",
       "    <tr>\n",
       "      <th>4</th>\n",
       "      <td>13887.8</td>\n",
       "      <td>-34.08</td>\n",
       "      <td>1.626</td>\n",
       "      <td>22289.2</td>\n",
       "      <td>87368.06</td>\n",
       "      <td>0</td>\n",
       "      <td>1</td>\n",
       "      <td>x</td>\n",
       "    </tr>\n",
       "  </tbody>\n",
       "</table>\n",
       "</div>"
      ],
      "text/plain": [
       "      ampl  center  sigma   offset    residue  ix  iy direction\n",
       "0  15102.9  -33.50  1.742  19918.9  167553.94   0   0         x\n",
       "1  20737.1   -9.34  1.677  23114.2  314309.72   1   0         x\n",
       "2  16334.9   14.74  1.580  16871.5  171775.64   2   0         x\n",
       "3  22071.3   39.10  1.698  21182.0  338741.92   3   0         x\n",
       "4  13887.8  -34.08  1.626  22289.2   87368.06   0   1         x"
      ]
     },
     "execution_count": 21,
     "metadata": {},
     "output_type": "execute_result"
    }
   ],
   "source": [
    "df_rg = pd.read_csv('A_SPAD_532nm.csv', index_col=0)\n",
    "df_rg.head()"
   ]
  },
  {
   "cell_type": "code",
   "execution_count": 22,
   "metadata": {},
   "outputs": [
    {
     "data": {
      "text/plain": [
       "array([-33.35,  -9.25,  14.92,  39.12, -34.  ,  -9.79,  14.37,  38.66,\n",
       "       -34.58, -10.39,  13.84,  38.03, -35.18, -10.99,  13.23,  37.49])"
      ]
     },
     "execution_count": 22,
     "metadata": {},
     "output_type": "execute_result"
    }
   ],
   "source": [
    "h1_gg = df_gg.query(\"direction == 'x'\")['center'].as_matrix()\n",
    "v1_gg = df_gg.query(\"direction == 'y'\")['center'].as_matrix()\n",
    "h1_gg"
   ]
  },
  {
   "cell_type": "code",
   "execution_count": 23,
   "metadata": {},
   "outputs": [
    {
     "data": {
      "text/plain": [
       "array([-33.5 ,  -9.34,  14.74,  39.1 , -34.08,  -9.83,  14.38,  38.66,\n",
       "       -34.62, -10.36,  13.91,  38.12, -35.14, -10.88,  13.4 ,  37.64])"
      ]
     },
     "execution_count": 23,
     "metadata": {},
     "output_type": "execute_result"
    }
   ],
   "source": [
    "h1_rg = df_rg.query(\"direction == 'x'\")['center'].as_matrix()\n",
    "v1_rg = df_rg.query(\"direction == 'y'\")['center'].as_matrix()\n",
    "h1_rg"
   ]
  },
  {
   "cell_type": "markdown",
   "metadata": {},
   "source": [
    "# Alignment plot\n",
    "This plot shows D-SPAD and R-SPAD from 4x4 multiscan after alignment."
   ]
  },
  {
   "cell_type": "code",
   "execution_count": 24,
   "metadata": {},
   "outputs": [
    {
     "name": "stdout",
     "output_type": "stream",
     "text": [
      "Saved: figures/2017-05-02_scan_fit_scatter.png\n"
     ]
    },
    {
     "data": {
      "image/png": "[encoded data removed]",
      "text/plain": [
       "<matplotlib.figure.Figure at 0x9639160>"
      ]
     },
     "metadata": {
      "image/png": {
       "height": 292,
       "width": 409
      }
     },
     "output_type": "display_data"
    }
   ],
   "source": [
    "microns = 20 * (180/250) * 1.5  # convert 20 μm LCOS pixel in distance on the SPAD plane\n",
    "plt.figure()\n",
    "d_spad = plt.plot(h1_gg*microns, v1_gg*microns, 'x', ms=12, mew=1.6, label='D-SPADs')\n",
    "r_spad = plt.plot(h1_rg*microns, v1_rg*microns, '+', ms=16, mew=1.6, label='A-SPADs')\n",
    "#plt.xlim(-50, 80)\n",
    "plt.ylim(-2500, -500)\n",
    "ax = plt.gca()\n",
    "plt.axes().set_aspect('equal', 'datalim')\n",
    "plt.xlabel('x (μm)')\n",
    "plt.ylabel('y (μm)')\n",
    "plt.yticks([-2500, -2000, -1500, -1000, -500])\n",
    "plt.legend(loc='lower center', ncol=2, frameon=False, bbox_to_anchor=(0.5, 1))\n",
    "savefig('scan_fit_scatter')"
   ]
  },
  {
   "cell_type": "code",
   "execution_count": null,
   "metadata": {
    "collapsed": true
   },
   "outputs": [],
   "source": []
  }
 ],
 "metadata": {
  "kernelspec": {
   "display_name": "Python [conda env:py36]",
   "language": "python",
   "name": "conda-env-py36-py"
  },
  "language_info": {
   "codemirror_mode": {
    "name": "ipython",
    "version": 3
   },
   "file_extension": ".py",
   "mimetype": "text/x-python",
   "name": "python",
   "nbconvert_exporter": "python",
   "pygments_lexer": "ipython3",
   "version": "3.6.1"
  },
  "nav_menu": {
   "height": "291px",
   "width": "337px"
  },
  "toc": {
   "navigate_menu": true,
   "number_sections": true,
   "sideBar": true,
   "threshold": 4,
   "toc_cell": false,
   "toc_section_display": "block",
   "toc_window_display": true
  },
  "toc_position": {
   "height": "837px",
   "left": "0px",
   "right": "851px",
   "top": "106px",
   "width": "212px"
  }
 },
 "nbformat": 4,
 "nbformat_minor": 1
}
